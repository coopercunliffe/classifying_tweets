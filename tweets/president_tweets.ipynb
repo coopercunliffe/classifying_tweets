{
  "nbformat": 4,
  "nbformat_minor": 0,
  "metadata": {
    "colab": {
      "name": "president_tweets.ipynb",
      "provenance": [],
      "collapsed_sections": [],
      "machine_shape": "hm",
      "mount_file_id": "144rXrDJSVEBbl-ag1G_vl7Vcp1clogDb",
      "authorship_tag": "ABX9TyNgCpTQEeadcPKr6EKE0CL4",
      "include_colab_link": true
    },
    "kernelspec": {
      "name": "python3",
      "display_name": "Python 3"
    },
    "accelerator": "GPU"
  },
  "cells": [
    {
      "cell_type": "markdown",
      "metadata": {
        "id": "view-in-github",
        "colab_type": "text"
      },
      "source": [
        "<a href=\"https://colab.research.google.com/github/coopercunliffe/springboard/blob/master/president_tweets.ipynb\" target=\"_parent\"><img src=\"https://colab.research.google.com/assets/colab-badge.svg\" alt=\"Open In Colab\"/></a>"
      ]
    },
    {
      "cell_type": "code",
      "metadata": {
        "id": "LXnDtKOBcC66",
        "colab_type": "code",
        "colab": {}
      },
      "source": [
        "import pandas as pd\n",
        "import numpy as np\n",
        "import datetime as dt\n",
        "import matplotlib.pyplot as plt\n",
        "import seaborn as sns\n",
        "import random\n",
        "import sys\n",
        "import re\n",
        "from fastai.text import *\n",
        "\n",
        "pd.set_option('display.max_colwidth', 80)\n",
        "\n",
        "random.seed(22)"
      ],
      "execution_count": 0,
      "outputs": []
    },
    {
      "cell_type": "code",
      "metadata": {
        "id": "ayA9ibiZcj5G",
        "colab_type": "code",
        "colab": {}
      },
      "source": [
        "# mount google drive"
      ],
      "execution_count": 0,
      "outputs": []
    },
    {
      "cell_type": "code",
      "metadata": {
        "id": "SSPvlpFwcj7a",
        "colab_type": "code",
        "colab": {}
      },
      "source": [
        "df = pd.read_csv('/content/drive/My Drive/twitter data/tweet_df.csv', lineterminator='\\n', index_col=0)"
      ],
      "execution_count": 0,
      "outputs": []
    },
    {
      "cell_type": "code",
      "metadata": {
        "id": "pZcA6cjJc41L",
        "colab_type": "code",
        "outputId": "02561149-de15-4ea5-d099-02696278a5dc",
        "colab": {
          "base_uri": "https://localhost:8080/",
          "height": 34
        }
      },
      "source": [
        "df.shape"
      ],
      "execution_count": 22,
      "outputs": [
        {
          "output_type": "execute_result",
          "data": {
            "text/plain": [
              "(48151, 28)"
            ]
          },
          "metadata": {
            "tags": []
          },
          "execution_count": 22
        }
      ]
    },
    {
      "cell_type": "code",
      "metadata": {
        "id": "Qq7w3RyFdb12",
        "colab_type": "code",
        "colab": {
          "base_uri": "https://localhost:8080/",
          "height": 34
        },
        "outputId": "b0d0fb8c-dd1d-4288-9a59-43ff82d624e4"
      },
      "source": [
        "# trump tweets only, no retweets\n",
        "df = df[df['is_retweet'] == False]\n",
        "df.shape"
      ],
      "execution_count": 23,
      "outputs": [
        {
          "output_type": "execute_result",
          "data": {
            "text/plain": [
              "(41921, 28)"
            ]
          },
          "metadata": {
            "tags": []
          },
          "execution_count": 23
        }
      ]
    },
    {
      "cell_type": "code",
      "metadata": {
        "id": "_u1miH5bdb67",
        "colab_type": "code",
        "outputId": "cc1eea1c-a404-4462-9181-89c3abb0f559",
        "colab": {
          "base_uri": "https://localhost:8080/",
          "height": 853
        }
      },
      "source": [
        "df.head()"
      ],
      "execution_count": 24,
      "outputs": [
        {
          "output_type": "execute_result",
          "data": {
            "text/html": [
              "<div>\n",
              "<style scoped>\n",
              "    .dataframe tbody tr th:only-of-type {\n",
              "        vertical-align: middle;\n",
              "    }\n",
              "\n",
              "    .dataframe tbody tr th {\n",
              "        vertical-align: top;\n",
              "    }\n",
              "\n",
              "    .dataframe thead th {\n",
              "        text-align: right;\n",
              "    }\n",
              "</style>\n",
              "<table border=\"1\" class=\"dataframe\">\n",
              "  <thead>\n",
              "    <tr style=\"text-align: right;\">\n",
              "      <th></th>\n",
              "      <th>source</th>\n",
              "      <th>id_str</th>\n",
              "      <th>text</th>\n",
              "      <th>created_at</th>\n",
              "      <th>retweet_count</th>\n",
              "      <th>in_reply_to_user_id_str</th>\n",
              "      <th>favorite_count</th>\n",
              "      <th>is_retweet</th>\n",
              "      <th>created_date</th>\n",
              "      <th>created_time</th>\n",
              "      <th>created_hour</th>\n",
              "      <th>created_hour_est</th>\n",
              "      <th>is_presidential</th>\n",
              "      <th>is_valid</th>\n",
              "      <th>created_at_Year</th>\n",
              "      <th>created_at_Month</th>\n",
              "      <th>created_at_Week</th>\n",
              "      <th>created_at_Day</th>\n",
              "      <th>created_at_Dayofweek</th>\n",
              "      <th>created_at_Dayofyear</th>\n",
              "      <th>created_at_Is_month_end</th>\n",
              "      <th>created_at_Is_month_start</th>\n",
              "      <th>created_at_Is_quarter_end</th>\n",
              "      <th>created_at_Is_quarter_start</th>\n",
              "      <th>created_at_Is_year_end</th>\n",
              "      <th>created_at_Is_year_start</th>\n",
              "      <th>created_atElapsed</th>\n",
              "      <th>created_at_Dayofweek_str</th>\n",
              "    </tr>\n",
              "  </thead>\n",
              "  <tbody>\n",
              "    <tr>\n",
              "      <th>0</th>\n",
              "      <td>Twitter Web Client</td>\n",
              "      <td>1698308935</td>\n",
              "      <td>Be sure to tune in and watch Donald Trump on Late Night with David Letterman...</td>\n",
              "      <td>2009-05-04 18:54:25+00:00</td>\n",
              "      <td>253</td>\n",
              "      <td>NaN</td>\n",
              "      <td>202</td>\n",
              "      <td>False</td>\n",
              "      <td>2009-05-04</td>\n",
              "      <td>18:54:25</td>\n",
              "      <td>18</td>\n",
              "      <td>14</td>\n",
              "      <td>False</td>\n",
              "      <td>False</td>\n",
              "      <td>2009</td>\n",
              "      <td>5</td>\n",
              "      <td>19</td>\n",
              "      <td>4</td>\n",
              "      <td>0</td>\n",
              "      <td>124</td>\n",
              "      <td>False</td>\n",
              "      <td>False</td>\n",
              "      <td>False</td>\n",
              "      <td>False</td>\n",
              "      <td>False</td>\n",
              "      <td>False</td>\n",
              "      <td>1241463265</td>\n",
              "      <td>Monday</td>\n",
              "    </tr>\n",
              "    <tr>\n",
              "      <th>1</th>\n",
              "      <td>Twitter Web Client</td>\n",
              "      <td>1701461182</td>\n",
              "      <td>Donald Trump will be appearing on The View tomorrow morning to discuss Celeb...</td>\n",
              "      <td>2009-05-05 01:00:10+00:00</td>\n",
              "      <td>2</td>\n",
              "      <td>NaN</td>\n",
              "      <td>3</td>\n",
              "      <td>False</td>\n",
              "      <td>2009-05-05</td>\n",
              "      <td>01:00:10</td>\n",
              "      <td>1</td>\n",
              "      <td>21</td>\n",
              "      <td>False</td>\n",
              "      <td>False</td>\n",
              "      <td>2009</td>\n",
              "      <td>5</td>\n",
              "      <td>19</td>\n",
              "      <td>5</td>\n",
              "      <td>1</td>\n",
              "      <td>125</td>\n",
              "      <td>False</td>\n",
              "      <td>False</td>\n",
              "      <td>False</td>\n",
              "      <td>False</td>\n",
              "      <td>False</td>\n",
              "      <td>False</td>\n",
              "      <td>1241485210</td>\n",
              "      <td>Tuesday</td>\n",
              "    </tr>\n",
              "    <tr>\n",
              "      <th>2</th>\n",
              "      <td>Twitter Web Client</td>\n",
              "      <td>1737479987</td>\n",
              "      <td>Donald Trump reads Top Ten Financial Tips on Late Show with David Letterman:...</td>\n",
              "      <td>2009-05-08 13:38:08+00:00</td>\n",
              "      <td>3</td>\n",
              "      <td>NaN</td>\n",
              "      <td>2</td>\n",
              "      <td>False</td>\n",
              "      <td>2009-05-08</td>\n",
              "      <td>13:38:08</td>\n",
              "      <td>13</td>\n",
              "      <td>9</td>\n",
              "      <td>False</td>\n",
              "      <td>False</td>\n",
              "      <td>2009</td>\n",
              "      <td>5</td>\n",
              "      <td>19</td>\n",
              "      <td>8</td>\n",
              "      <td>4</td>\n",
              "      <td>128</td>\n",
              "      <td>False</td>\n",
              "      <td>False</td>\n",
              "      <td>False</td>\n",
              "      <td>False</td>\n",
              "      <td>False</td>\n",
              "      <td>False</td>\n",
              "      <td>1241789888</td>\n",
              "      <td>Friday</td>\n",
              "    </tr>\n",
              "    <tr>\n",
              "      <th>3</th>\n",
              "      <td>Twitter Web Client</td>\n",
              "      <td>1741160716</td>\n",
              "      <td>New Blog Post: Celebrity Apprentice Finale and Lessons Learned Along the Way...</td>\n",
              "      <td>2009-05-08 20:40:15+00:00</td>\n",
              "      <td>8</td>\n",
              "      <td>NaN</td>\n",
              "      <td>27</td>\n",
              "      <td>False</td>\n",
              "      <td>2009-05-08</td>\n",
              "      <td>20:40:15</td>\n",
              "      <td>20</td>\n",
              "      <td>16</td>\n",
              "      <td>False</td>\n",
              "      <td>False</td>\n",
              "      <td>2009</td>\n",
              "      <td>5</td>\n",
              "      <td>19</td>\n",
              "      <td>8</td>\n",
              "      <td>4</td>\n",
              "      <td>128</td>\n",
              "      <td>False</td>\n",
              "      <td>False</td>\n",
              "      <td>False</td>\n",
              "      <td>False</td>\n",
              "      <td>False</td>\n",
              "      <td>False</td>\n",
              "      <td>1241815215</td>\n",
              "      <td>Friday</td>\n",
              "    </tr>\n",
              "    <tr>\n",
              "      <th>4</th>\n",
              "      <td>Twitter Web Client</td>\n",
              "      <td>1773561338</td>\n",
              "      <td>\"My persona will never be that of a wallflower - I’d rather build walls than...</td>\n",
              "      <td>2009-05-12 14:07:28+00:00</td>\n",
              "      <td>1421</td>\n",
              "      <td>NaN</td>\n",
              "      <td>1950</td>\n",
              "      <td>False</td>\n",
              "      <td>2009-05-12</td>\n",
              "      <td>14:07:28</td>\n",
              "      <td>14</td>\n",
              "      <td>10</td>\n",
              "      <td>False</td>\n",
              "      <td>False</td>\n",
              "      <td>2009</td>\n",
              "      <td>5</td>\n",
              "      <td>20</td>\n",
              "      <td>12</td>\n",
              "      <td>1</td>\n",
              "      <td>132</td>\n",
              "      <td>False</td>\n",
              "      <td>False</td>\n",
              "      <td>False</td>\n",
              "      <td>False</td>\n",
              "      <td>False</td>\n",
              "      <td>False</td>\n",
              "      <td>1242137248</td>\n",
              "      <td>Tuesday</td>\n",
              "    </tr>\n",
              "  </tbody>\n",
              "</table>\n",
              "</div>"
            ],
            "text/plain": [
              "               source      id_str  ... created_atElapsed created_at_Dayofweek_str\n",
              "0  Twitter Web Client  1698308935  ...        1241463265                   Monday\n",
              "1  Twitter Web Client  1701461182  ...        1241485210                  Tuesday\n",
              "2  Twitter Web Client  1737479987  ...        1241789888                   Friday\n",
              "3  Twitter Web Client  1741160716  ...        1241815215                   Friday\n",
              "4  Twitter Web Client  1773561338  ...        1242137248                  Tuesday\n",
              "\n",
              "[5 rows x 28 columns]"
            ]
          },
          "metadata": {
            "tags": []
          },
          "execution_count": 24
        }
      ]
    },
    {
      "cell_type": "code",
      "metadata": {
        "id": "4-dHQb0Jc44v",
        "colab_type": "code",
        "colab": {}
      },
      "source": [
        "# Validation data will start as most recent 20% of the tweets\n",
        "\n",
        "test_size = len(df['is_valid']) // 5 \n",
        "\n",
        "df['is_valid'].iloc[-test_size:] = True    "
      ],
      "execution_count": 0,
      "outputs": []
    },
    {
      "cell_type": "code",
      "metadata": {
        "id": "644x8hElc48N",
        "colab_type": "code",
        "outputId": "5725daa8-3cdc-4006-e2d8-74f265595aff",
        "colab": {
          "base_uri": "https://localhost:8080/",
          "height": 853
        }
      },
      "source": [
        "df.head()"
      ],
      "execution_count": 26,
      "outputs": [
        {
          "output_type": "execute_result",
          "data": {
            "text/html": [
              "<div>\n",
              "<style scoped>\n",
              "    .dataframe tbody tr th:only-of-type {\n",
              "        vertical-align: middle;\n",
              "    }\n",
              "\n",
              "    .dataframe tbody tr th {\n",
              "        vertical-align: top;\n",
              "    }\n",
              "\n",
              "    .dataframe thead th {\n",
              "        text-align: right;\n",
              "    }\n",
              "</style>\n",
              "<table border=\"1\" class=\"dataframe\">\n",
              "  <thead>\n",
              "    <tr style=\"text-align: right;\">\n",
              "      <th></th>\n",
              "      <th>source</th>\n",
              "      <th>id_str</th>\n",
              "      <th>text</th>\n",
              "      <th>created_at</th>\n",
              "      <th>retweet_count</th>\n",
              "      <th>in_reply_to_user_id_str</th>\n",
              "      <th>favorite_count</th>\n",
              "      <th>is_retweet</th>\n",
              "      <th>created_date</th>\n",
              "      <th>created_time</th>\n",
              "      <th>created_hour</th>\n",
              "      <th>created_hour_est</th>\n",
              "      <th>is_presidential</th>\n",
              "      <th>is_valid</th>\n",
              "      <th>created_at_Year</th>\n",
              "      <th>created_at_Month</th>\n",
              "      <th>created_at_Week</th>\n",
              "      <th>created_at_Day</th>\n",
              "      <th>created_at_Dayofweek</th>\n",
              "      <th>created_at_Dayofyear</th>\n",
              "      <th>created_at_Is_month_end</th>\n",
              "      <th>created_at_Is_month_start</th>\n",
              "      <th>created_at_Is_quarter_end</th>\n",
              "      <th>created_at_Is_quarter_start</th>\n",
              "      <th>created_at_Is_year_end</th>\n",
              "      <th>created_at_Is_year_start</th>\n",
              "      <th>created_atElapsed</th>\n",
              "      <th>created_at_Dayofweek_str</th>\n",
              "    </tr>\n",
              "  </thead>\n",
              "  <tbody>\n",
              "    <tr>\n",
              "      <th>0</th>\n",
              "      <td>Twitter Web Client</td>\n",
              "      <td>1698308935</td>\n",
              "      <td>Be sure to tune in and watch Donald Trump on Late Night with David Letterman...</td>\n",
              "      <td>2009-05-04 18:54:25+00:00</td>\n",
              "      <td>253</td>\n",
              "      <td>NaN</td>\n",
              "      <td>202</td>\n",
              "      <td>False</td>\n",
              "      <td>2009-05-04</td>\n",
              "      <td>18:54:25</td>\n",
              "      <td>18</td>\n",
              "      <td>14</td>\n",
              "      <td>False</td>\n",
              "      <td>False</td>\n",
              "      <td>2009</td>\n",
              "      <td>5</td>\n",
              "      <td>19</td>\n",
              "      <td>4</td>\n",
              "      <td>0</td>\n",
              "      <td>124</td>\n",
              "      <td>False</td>\n",
              "      <td>False</td>\n",
              "      <td>False</td>\n",
              "      <td>False</td>\n",
              "      <td>False</td>\n",
              "      <td>False</td>\n",
              "      <td>1241463265</td>\n",
              "      <td>Monday</td>\n",
              "    </tr>\n",
              "    <tr>\n",
              "      <th>1</th>\n",
              "      <td>Twitter Web Client</td>\n",
              "      <td>1701461182</td>\n",
              "      <td>Donald Trump will be appearing on The View tomorrow morning to discuss Celeb...</td>\n",
              "      <td>2009-05-05 01:00:10+00:00</td>\n",
              "      <td>2</td>\n",
              "      <td>NaN</td>\n",
              "      <td>3</td>\n",
              "      <td>False</td>\n",
              "      <td>2009-05-05</td>\n",
              "      <td>01:00:10</td>\n",
              "      <td>1</td>\n",
              "      <td>21</td>\n",
              "      <td>False</td>\n",
              "      <td>False</td>\n",
              "      <td>2009</td>\n",
              "      <td>5</td>\n",
              "      <td>19</td>\n",
              "      <td>5</td>\n",
              "      <td>1</td>\n",
              "      <td>125</td>\n",
              "      <td>False</td>\n",
              "      <td>False</td>\n",
              "      <td>False</td>\n",
              "      <td>False</td>\n",
              "      <td>False</td>\n",
              "      <td>False</td>\n",
              "      <td>1241485210</td>\n",
              "      <td>Tuesday</td>\n",
              "    </tr>\n",
              "    <tr>\n",
              "      <th>2</th>\n",
              "      <td>Twitter Web Client</td>\n",
              "      <td>1737479987</td>\n",
              "      <td>Donald Trump reads Top Ten Financial Tips on Late Show with David Letterman:...</td>\n",
              "      <td>2009-05-08 13:38:08+00:00</td>\n",
              "      <td>3</td>\n",
              "      <td>NaN</td>\n",
              "      <td>2</td>\n",
              "      <td>False</td>\n",
              "      <td>2009-05-08</td>\n",
              "      <td>13:38:08</td>\n",
              "      <td>13</td>\n",
              "      <td>9</td>\n",
              "      <td>False</td>\n",
              "      <td>False</td>\n",
              "      <td>2009</td>\n",
              "      <td>5</td>\n",
              "      <td>19</td>\n",
              "      <td>8</td>\n",
              "      <td>4</td>\n",
              "      <td>128</td>\n",
              "      <td>False</td>\n",
              "      <td>False</td>\n",
              "      <td>False</td>\n",
              "      <td>False</td>\n",
              "      <td>False</td>\n",
              "      <td>False</td>\n",
              "      <td>1241789888</td>\n",
              "      <td>Friday</td>\n",
              "    </tr>\n",
              "    <tr>\n",
              "      <th>3</th>\n",
              "      <td>Twitter Web Client</td>\n",
              "      <td>1741160716</td>\n",
              "      <td>New Blog Post: Celebrity Apprentice Finale and Lessons Learned Along the Way...</td>\n",
              "      <td>2009-05-08 20:40:15+00:00</td>\n",
              "      <td>8</td>\n",
              "      <td>NaN</td>\n",
              "      <td>27</td>\n",
              "      <td>False</td>\n",
              "      <td>2009-05-08</td>\n",
              "      <td>20:40:15</td>\n",
              "      <td>20</td>\n",
              "      <td>16</td>\n",
              "      <td>False</td>\n",
              "      <td>False</td>\n",
              "      <td>2009</td>\n",
              "      <td>5</td>\n",
              "      <td>19</td>\n",
              "      <td>8</td>\n",
              "      <td>4</td>\n",
              "      <td>128</td>\n",
              "      <td>False</td>\n",
              "      <td>False</td>\n",
              "      <td>False</td>\n",
              "      <td>False</td>\n",
              "      <td>False</td>\n",
              "      <td>False</td>\n",
              "      <td>1241815215</td>\n",
              "      <td>Friday</td>\n",
              "    </tr>\n",
              "    <tr>\n",
              "      <th>4</th>\n",
              "      <td>Twitter Web Client</td>\n",
              "      <td>1773561338</td>\n",
              "      <td>\"My persona will never be that of a wallflower - I’d rather build walls than...</td>\n",
              "      <td>2009-05-12 14:07:28+00:00</td>\n",
              "      <td>1421</td>\n",
              "      <td>NaN</td>\n",
              "      <td>1950</td>\n",
              "      <td>False</td>\n",
              "      <td>2009-05-12</td>\n",
              "      <td>14:07:28</td>\n",
              "      <td>14</td>\n",
              "      <td>10</td>\n",
              "      <td>False</td>\n",
              "      <td>False</td>\n",
              "      <td>2009</td>\n",
              "      <td>5</td>\n",
              "      <td>20</td>\n",
              "      <td>12</td>\n",
              "      <td>1</td>\n",
              "      <td>132</td>\n",
              "      <td>False</td>\n",
              "      <td>False</td>\n",
              "      <td>False</td>\n",
              "      <td>False</td>\n",
              "      <td>False</td>\n",
              "      <td>False</td>\n",
              "      <td>1242137248</td>\n",
              "      <td>Tuesday</td>\n",
              "    </tr>\n",
              "  </tbody>\n",
              "</table>\n",
              "</div>"
            ],
            "text/plain": [
              "               source      id_str  ... created_atElapsed created_at_Dayofweek_str\n",
              "0  Twitter Web Client  1698308935  ...        1241463265                   Monday\n",
              "1  Twitter Web Client  1701461182  ...        1241485210                  Tuesday\n",
              "2  Twitter Web Client  1737479987  ...        1241789888                   Friday\n",
              "3  Twitter Web Client  1741160716  ...        1241815215                   Friday\n",
              "4  Twitter Web Client  1773561338  ...        1242137248                  Tuesday\n",
              "\n",
              "[5 rows x 28 columns]"
            ]
          },
          "metadata": {
            "tags": []
          },
          "execution_count": 26
        }
      ]
    },
    {
      "cell_type": "code",
      "metadata": {
        "id": "gsfqisuWhX-A",
        "colab_type": "code",
        "colab": {}
      },
      "source": [
        "# Randnomize which tweets make it into the validation set\n",
        "\n",
        "df['is_valid'] = random.sample(list(df['is_valid']), len(df['is_valid']))"
      ],
      "execution_count": 0,
      "outputs": []
    },
    {
      "cell_type": "code",
      "metadata": {
        "id": "BfYPm1AahYC3",
        "colab_type": "code",
        "outputId": "62ddca30-7207-4ba0-a067-afc9ea429240",
        "colab": {
          "base_uri": "https://localhost:8080/",
          "height": 853
        }
      },
      "source": [
        "df.head()"
      ],
      "execution_count": 28,
      "outputs": [
        {
          "output_type": "execute_result",
          "data": {
            "text/html": [
              "<div>\n",
              "<style scoped>\n",
              "    .dataframe tbody tr th:only-of-type {\n",
              "        vertical-align: middle;\n",
              "    }\n",
              "\n",
              "    .dataframe tbody tr th {\n",
              "        vertical-align: top;\n",
              "    }\n",
              "\n",
              "    .dataframe thead th {\n",
              "        text-align: right;\n",
              "    }\n",
              "</style>\n",
              "<table border=\"1\" class=\"dataframe\">\n",
              "  <thead>\n",
              "    <tr style=\"text-align: right;\">\n",
              "      <th></th>\n",
              "      <th>source</th>\n",
              "      <th>id_str</th>\n",
              "      <th>text</th>\n",
              "      <th>created_at</th>\n",
              "      <th>retweet_count</th>\n",
              "      <th>in_reply_to_user_id_str</th>\n",
              "      <th>favorite_count</th>\n",
              "      <th>is_retweet</th>\n",
              "      <th>created_date</th>\n",
              "      <th>created_time</th>\n",
              "      <th>created_hour</th>\n",
              "      <th>created_hour_est</th>\n",
              "      <th>is_presidential</th>\n",
              "      <th>is_valid</th>\n",
              "      <th>created_at_Year</th>\n",
              "      <th>created_at_Month</th>\n",
              "      <th>created_at_Week</th>\n",
              "      <th>created_at_Day</th>\n",
              "      <th>created_at_Dayofweek</th>\n",
              "      <th>created_at_Dayofyear</th>\n",
              "      <th>created_at_Is_month_end</th>\n",
              "      <th>created_at_Is_month_start</th>\n",
              "      <th>created_at_Is_quarter_end</th>\n",
              "      <th>created_at_Is_quarter_start</th>\n",
              "      <th>created_at_Is_year_end</th>\n",
              "      <th>created_at_Is_year_start</th>\n",
              "      <th>created_atElapsed</th>\n",
              "      <th>created_at_Dayofweek_str</th>\n",
              "    </tr>\n",
              "  </thead>\n",
              "  <tbody>\n",
              "    <tr>\n",
              "      <th>0</th>\n",
              "      <td>Twitter Web Client</td>\n",
              "      <td>1698308935</td>\n",
              "      <td>Be sure to tune in and watch Donald Trump on Late Night with David Letterman...</td>\n",
              "      <td>2009-05-04 18:54:25+00:00</td>\n",
              "      <td>253</td>\n",
              "      <td>NaN</td>\n",
              "      <td>202</td>\n",
              "      <td>False</td>\n",
              "      <td>2009-05-04</td>\n",
              "      <td>18:54:25</td>\n",
              "      <td>18</td>\n",
              "      <td>14</td>\n",
              "      <td>False</td>\n",
              "      <td>False</td>\n",
              "      <td>2009</td>\n",
              "      <td>5</td>\n",
              "      <td>19</td>\n",
              "      <td>4</td>\n",
              "      <td>0</td>\n",
              "      <td>124</td>\n",
              "      <td>False</td>\n",
              "      <td>False</td>\n",
              "      <td>False</td>\n",
              "      <td>False</td>\n",
              "      <td>False</td>\n",
              "      <td>False</td>\n",
              "      <td>1241463265</td>\n",
              "      <td>Monday</td>\n",
              "    </tr>\n",
              "    <tr>\n",
              "      <th>1</th>\n",
              "      <td>Twitter Web Client</td>\n",
              "      <td>1701461182</td>\n",
              "      <td>Donald Trump will be appearing on The View tomorrow morning to discuss Celeb...</td>\n",
              "      <td>2009-05-05 01:00:10+00:00</td>\n",
              "      <td>2</td>\n",
              "      <td>NaN</td>\n",
              "      <td>3</td>\n",
              "      <td>False</td>\n",
              "      <td>2009-05-05</td>\n",
              "      <td>01:00:10</td>\n",
              "      <td>1</td>\n",
              "      <td>21</td>\n",
              "      <td>False</td>\n",
              "      <td>False</td>\n",
              "      <td>2009</td>\n",
              "      <td>5</td>\n",
              "      <td>19</td>\n",
              "      <td>5</td>\n",
              "      <td>1</td>\n",
              "      <td>125</td>\n",
              "      <td>False</td>\n",
              "      <td>False</td>\n",
              "      <td>False</td>\n",
              "      <td>False</td>\n",
              "      <td>False</td>\n",
              "      <td>False</td>\n",
              "      <td>1241485210</td>\n",
              "      <td>Tuesday</td>\n",
              "    </tr>\n",
              "    <tr>\n",
              "      <th>2</th>\n",
              "      <td>Twitter Web Client</td>\n",
              "      <td>1737479987</td>\n",
              "      <td>Donald Trump reads Top Ten Financial Tips on Late Show with David Letterman:...</td>\n",
              "      <td>2009-05-08 13:38:08+00:00</td>\n",
              "      <td>3</td>\n",
              "      <td>NaN</td>\n",
              "      <td>2</td>\n",
              "      <td>False</td>\n",
              "      <td>2009-05-08</td>\n",
              "      <td>13:38:08</td>\n",
              "      <td>13</td>\n",
              "      <td>9</td>\n",
              "      <td>False</td>\n",
              "      <td>False</td>\n",
              "      <td>2009</td>\n",
              "      <td>5</td>\n",
              "      <td>19</td>\n",
              "      <td>8</td>\n",
              "      <td>4</td>\n",
              "      <td>128</td>\n",
              "      <td>False</td>\n",
              "      <td>False</td>\n",
              "      <td>False</td>\n",
              "      <td>False</td>\n",
              "      <td>False</td>\n",
              "      <td>False</td>\n",
              "      <td>1241789888</td>\n",
              "      <td>Friday</td>\n",
              "    </tr>\n",
              "    <tr>\n",
              "      <th>3</th>\n",
              "      <td>Twitter Web Client</td>\n",
              "      <td>1741160716</td>\n",
              "      <td>New Blog Post: Celebrity Apprentice Finale and Lessons Learned Along the Way...</td>\n",
              "      <td>2009-05-08 20:40:15+00:00</td>\n",
              "      <td>8</td>\n",
              "      <td>NaN</td>\n",
              "      <td>27</td>\n",
              "      <td>False</td>\n",
              "      <td>2009-05-08</td>\n",
              "      <td>20:40:15</td>\n",
              "      <td>20</td>\n",
              "      <td>16</td>\n",
              "      <td>False</td>\n",
              "      <td>True</td>\n",
              "      <td>2009</td>\n",
              "      <td>5</td>\n",
              "      <td>19</td>\n",
              "      <td>8</td>\n",
              "      <td>4</td>\n",
              "      <td>128</td>\n",
              "      <td>False</td>\n",
              "      <td>False</td>\n",
              "      <td>False</td>\n",
              "      <td>False</td>\n",
              "      <td>False</td>\n",
              "      <td>False</td>\n",
              "      <td>1241815215</td>\n",
              "      <td>Friday</td>\n",
              "    </tr>\n",
              "    <tr>\n",
              "      <th>4</th>\n",
              "      <td>Twitter Web Client</td>\n",
              "      <td>1773561338</td>\n",
              "      <td>\"My persona will never be that of a wallflower - I’d rather build walls than...</td>\n",
              "      <td>2009-05-12 14:07:28+00:00</td>\n",
              "      <td>1421</td>\n",
              "      <td>NaN</td>\n",
              "      <td>1950</td>\n",
              "      <td>False</td>\n",
              "      <td>2009-05-12</td>\n",
              "      <td>14:07:28</td>\n",
              "      <td>14</td>\n",
              "      <td>10</td>\n",
              "      <td>False</td>\n",
              "      <td>False</td>\n",
              "      <td>2009</td>\n",
              "      <td>5</td>\n",
              "      <td>20</td>\n",
              "      <td>12</td>\n",
              "      <td>1</td>\n",
              "      <td>132</td>\n",
              "      <td>False</td>\n",
              "      <td>False</td>\n",
              "      <td>False</td>\n",
              "      <td>False</td>\n",
              "      <td>False</td>\n",
              "      <td>False</td>\n",
              "      <td>1242137248</td>\n",
              "      <td>Tuesday</td>\n",
              "    </tr>\n",
              "  </tbody>\n",
              "</table>\n",
              "</div>"
            ],
            "text/plain": [
              "               source      id_str  ... created_atElapsed created_at_Dayofweek_str\n",
              "0  Twitter Web Client  1698308935  ...        1241463265                   Monday\n",
              "1  Twitter Web Client  1701461182  ...        1241485210                  Tuesday\n",
              "2  Twitter Web Client  1737479987  ...        1241789888                   Friday\n",
              "3  Twitter Web Client  1741160716  ...        1241815215                   Friday\n",
              "4  Twitter Web Client  1773561338  ...        1242137248                  Tuesday\n",
              "\n",
              "[5 rows x 28 columns]"
            ]
          },
          "metadata": {
            "tags": []
          },
          "execution_count": 28
        }
      ]
    },
    {
      "cell_type": "code",
      "metadata": {
        "id": "aLU4K7scc4_X",
        "colab_type": "code",
        "colab": {}
      },
      "source": [
        "# make df of label, text, is_valid \n",
        "\n",
        "# label will be 'is_night_tweet' (10pm - 6am EST)\n",
        "\n",
        "\n",
        "texts = df[['is_presidential', 'text', 'is_valid']] "
      ],
      "execution_count": 0,
      "outputs": []
    },
    {
      "cell_type": "code",
      "metadata": {
        "id": "OgvOUhl5hYyh",
        "colab_type": "code",
        "colab": {}
      },
      "source": [
        ""
      ],
      "execution_count": 0,
      "outputs": []
    },
    {
      "cell_type": "code",
      "metadata": {
        "id": "OroDgrdOhY3R",
        "colab_type": "code",
        "colab": {}
      },
      "source": [
        ""
      ],
      "execution_count": 0,
      "outputs": []
    },
    {
      "cell_type": "code",
      "metadata": {
        "id": "tcLKNiB5c5Ck",
        "colab_type": "code",
        "colab": {}
      },
      "source": [
        "texts = texts.rename(columns={'is_presidential':'label'})"
      ],
      "execution_count": 0,
      "outputs": []
    },
    {
      "cell_type": "code",
      "metadata": {
        "id": "R_ipFIv7c5Fq",
        "colab_type": "code",
        "outputId": "ce8c1af2-102f-4173-aeb0-dab4b151a881",
        "colab": {
          "base_uri": "https://localhost:8080/",
          "height": 34
        }
      },
      "source": [
        "texts[texts['label'] == True].shape"
      ],
      "execution_count": 31,
      "outputs": [
        {
          "output_type": "execute_result",
          "data": {
            "text/plain": [
              "(11785, 3)"
            ]
          },
          "metadata": {
            "tags": []
          },
          "execution_count": 31
        }
      ]
    },
    {
      "cell_type": "code",
      "metadata": {
        "id": "rdvOgF5Lf2dF",
        "colab_type": "code",
        "outputId": "80606493-e43a-4f14-9baa-4f33222a04b0",
        "colab": {
          "base_uri": "https://localhost:8080/",
          "height": 34
        }
      },
      "source": [
        "texts[texts['label'] == False].shape"
      ],
      "execution_count": 32,
      "outputs": [
        {
          "output_type": "execute_result",
          "data": {
            "text/plain": [
              "(30136, 3)"
            ]
          },
          "metadata": {
            "tags": []
          },
          "execution_count": 32
        }
      ]
    },
    {
      "cell_type": "code",
      "metadata": {
        "id": "5zSzI0JngSRC",
        "colab_type": "code",
        "outputId": "66bb8d56-5435-4c80-c1e5-860a90e8ba52",
        "colab": {
          "base_uri": "https://localhost:8080/",
          "height": 204
        }
      },
      "source": [
        "texts.head()"
      ],
      "execution_count": 33,
      "outputs": [
        {
          "output_type": "execute_result",
          "data": {
            "text/html": [
              "<div>\n",
              "<style scoped>\n",
              "    .dataframe tbody tr th:only-of-type {\n",
              "        vertical-align: middle;\n",
              "    }\n",
              "\n",
              "    .dataframe tbody tr th {\n",
              "        vertical-align: top;\n",
              "    }\n",
              "\n",
              "    .dataframe thead th {\n",
              "        text-align: right;\n",
              "    }\n",
              "</style>\n",
              "<table border=\"1\" class=\"dataframe\">\n",
              "  <thead>\n",
              "    <tr style=\"text-align: right;\">\n",
              "      <th></th>\n",
              "      <th>label</th>\n",
              "      <th>text</th>\n",
              "      <th>is_valid</th>\n",
              "    </tr>\n",
              "  </thead>\n",
              "  <tbody>\n",
              "    <tr>\n",
              "      <th>0</th>\n",
              "      <td>False</td>\n",
              "      <td>Be sure to tune in and watch Donald Trump on Late Night with David Letterman...</td>\n",
              "      <td>False</td>\n",
              "    </tr>\n",
              "    <tr>\n",
              "      <th>1</th>\n",
              "      <td>False</td>\n",
              "      <td>Donald Trump will be appearing on The View tomorrow morning to discuss Celeb...</td>\n",
              "      <td>False</td>\n",
              "    </tr>\n",
              "    <tr>\n",
              "      <th>2</th>\n",
              "      <td>False</td>\n",
              "      <td>Donald Trump reads Top Ten Financial Tips on Late Show with David Letterman:...</td>\n",
              "      <td>False</td>\n",
              "    </tr>\n",
              "    <tr>\n",
              "      <th>3</th>\n",
              "      <td>False</td>\n",
              "      <td>New Blog Post: Celebrity Apprentice Finale and Lessons Learned Along the Way...</td>\n",
              "      <td>True</td>\n",
              "    </tr>\n",
              "    <tr>\n",
              "      <th>4</th>\n",
              "      <td>False</td>\n",
              "      <td>\"My persona will never be that of a wallflower - I’d rather build walls than...</td>\n",
              "      <td>False</td>\n",
              "    </tr>\n",
              "  </tbody>\n",
              "</table>\n",
              "</div>"
            ],
            "text/plain": [
              "   label  ... is_valid\n",
              "0  False  ...    False\n",
              "1  False  ...    False\n",
              "2  False  ...    False\n",
              "3  False  ...     True\n",
              "4  False  ...    False\n",
              "\n",
              "[5 rows x 3 columns]"
            ]
          },
          "metadata": {
            "tags": []
          },
          "execution_count": 33
        }
      ]
    },
    {
      "cell_type": "code",
      "metadata": {
        "id": "yzvVL-abgSXt",
        "colab_type": "code",
        "colab": {}
      },
      "source": [
        "# Ramdomize the rows to destroy any temporal information\n",
        "\n",
        "texts = texts.sample(frac=1)"
      ],
      "execution_count": 0,
      "outputs": []
    },
    {
      "cell_type": "code",
      "metadata": {
        "id": "Cluq2cojgSd_",
        "colab_type": "code",
        "colab": {}
      },
      "source": [
        "texts = texts.reset_index(drop=True)"
      ],
      "execution_count": 0,
      "outputs": []
    },
    {
      "cell_type": "code",
      "metadata": {
        "id": "QJSH4JLSjpJW",
        "colab_type": "code",
        "outputId": "56f7e414-3a40-45c5-e353-f8ada19d70b8",
        "colab": {
          "base_uri": "https://localhost:8080/",
          "height": 204
        }
      },
      "source": [
        "texts.head()"
      ],
      "execution_count": 36,
      "outputs": [
        {
          "output_type": "execute_result",
          "data": {
            "text/html": [
              "<div>\n",
              "<style scoped>\n",
              "    .dataframe tbody tr th:only-of-type {\n",
              "        vertical-align: middle;\n",
              "    }\n",
              "\n",
              "    .dataframe tbody tr th {\n",
              "        vertical-align: top;\n",
              "    }\n",
              "\n",
              "    .dataframe thead th {\n",
              "        text-align: right;\n",
              "    }\n",
              "</style>\n",
              "<table border=\"1\" class=\"dataframe\">\n",
              "  <thead>\n",
              "    <tr style=\"text-align: right;\">\n",
              "      <th></th>\n",
              "      <th>label</th>\n",
              "      <th>text</th>\n",
              "      <th>is_valid</th>\n",
              "    </tr>\n",
              "  </thead>\n",
              "  <tbody>\n",
              "    <tr>\n",
              "      <th>0</th>\n",
              "      <td>False</td>\n",
              "      <td>I will write a $2 MILLION check to our campaign if we hit our million-dollar...</td>\n",
              "      <td>False</td>\n",
              "    </tr>\n",
              "    <tr>\n",
              "      <th>1</th>\n",
              "      <td>True</td>\n",
              "      <td>Great job, just in time! https://t.co/KMUXtO8IYz</td>\n",
              "      <td>False</td>\n",
              "    </tr>\n",
              "    <tr>\n",
              "      <th>2</th>\n",
              "      <td>False</td>\n",
              "      <td>.@GOP has leverage. Must stay united &amp;amp; on message.</td>\n",
              "      <td>False</td>\n",
              "    </tr>\n",
              "    <tr>\n",
              "      <th>3</th>\n",
              "      <td>False</td>\n",
              "      <td>\"@cisrabbit: Not to mention we already had two Bush presidents, neither of w...</td>\n",
              "      <td>False</td>\n",
              "    </tr>\n",
              "    <tr>\n",
              "      <th>4</th>\n",
              "      <td>False</td>\n",
              "      <td>Within the heart of beautiful Somerset County, Trump Nat’l Bedminster is the...</td>\n",
              "      <td>False</td>\n",
              "    </tr>\n",
              "  </tbody>\n",
              "</table>\n",
              "</div>"
            ],
            "text/plain": [
              "   label  ... is_valid\n",
              "0  False  ...    False\n",
              "1   True  ...    False\n",
              "2  False  ...    False\n",
              "3  False  ...    False\n",
              "4  False  ...    False\n",
              "\n",
              "[5 rows x 3 columns]"
            ]
          },
          "metadata": {
            "tags": []
          },
          "execution_count": 36
        }
      ]
    },
    {
      "cell_type": "code",
      "metadata": {
        "id": "_U60EquPc5JD",
        "colab_type": "code",
        "colab": {}
      },
      "source": [
        "#  Define Path and separate the training and validation data\n",
        "\n",
        "path = Path('/content/drive/My Drive') \n",
        "\n",
        "train_df, valid_df = texts[texts['is_valid'] == False], texts[texts['is_valid'] == True]"
      ],
      "execution_count": 0,
      "outputs": []
    },
    {
      "cell_type": "code",
      "metadata": {
        "id": "zMYu2kZDc5Mj",
        "colab_type": "code",
        "outputId": "3b06a5cb-afe7-4f84-9c3e-53778532309f",
        "colab": {
          "base_uri": "https://localhost:8080/",
          "height": 17
        }
      },
      "source": [
        "# create data bunches\n",
        "\n",
        "data_lm = TextLMDataBunch.from_df(path, train_df, valid_df, text_cols=1, bs=32)\n",
        "data_clas = TextClasDataBunch.from_df(path, train_df, valid_df, text_cols=1, label_cols=0, bs=32)"
      ],
      "execution_count": 38,
      "outputs": [
        {
          "output_type": "display_data",
          "data": {
            "text/html": [
              ""
            ],
            "text/plain": [
              "<IPython.core.display.HTML object>"
            ]
          },
          "metadata": {
            "tags": []
          }
        },
        {
          "output_type": "display_data",
          "data": {
            "text/html": [
              ""
            ],
            "text/plain": [
              "<IPython.core.display.HTML object>"
            ]
          },
          "metadata": {
            "tags": []
          }
        },
        {
          "output_type": "display_data",
          "data": {
            "text/html": [
              ""
            ],
            "text/plain": [
              "<IPython.core.display.HTML object>"
            ]
          },
          "metadata": {
            "tags": []
          }
        },
        {
          "output_type": "display_data",
          "data": {
            "text/html": [
              ""
            ],
            "text/plain": [
              "<IPython.core.display.HTML object>"
            ]
          },
          "metadata": {
            "tags": []
          }
        }
      ]
    },
    {
      "cell_type": "code",
      "metadata": {
        "id": "KW0WIlu1c5Pp",
        "colab_type": "code",
        "colab": {
          "base_uri": "https://localhost:8080/",
          "height": 629
        },
        "outputId": "235cdd23-aa48-4cc5-a0c6-d7daf6a95111"
      },
      "source": [
        "data_lm.show_batch()\n",
        "data_clas.show_batch()"
      ],
      "execution_count": 39,
      "outputs": [
        {
          "output_type": "display_data",
          "data": {
            "text/html": [
              "<table border=\"1\" class=\"dataframe\">\n",
              "  <thead>\n",
              "    <tr style=\"text-align: right;\">\n",
              "      <th>idx</th>\n",
              "      <th>text</th>\n",
              "    </tr>\n",
              "  </thead>\n",
              "  <tbody>\n",
              "    <tr>\n",
              "      <td>0</td>\n",
              "      <td>not to mention we already had two xxmaj bush presidents , neither of which were too successful . xxmaj insanity would be to want a third . \" xxbos xxmaj within the heart of beautiful xxmaj somerset xxmaj county , xxmaj trump xxmaj nat’l xxmaj bedminster is the proud host of the 2022 @pgachampionship http : / / t.co / o4bycblewo xxbos xxmaj george xxmaj will was pushing for @jonhuntsman</td>\n",
              "    </tr>\n",
              "    <tr>\n",
              "      <td>1</td>\n",
              "      <td>’s xxmaj right . ” https : / / t.co / xxunk xxbos \" xxunk : @realdonaldtrump attended xxmaj tax xxmaj xxunk xxmaj tax xxmaj seminar xxmaj trump xxmaj university . xxmaj changed my life ! ! ! xxmaj able to open my own company xxmaj xxunk xxmaj group xxbos i really enjoyed the debate tonight even though the @foxnews trio , especially @megynkelly , was not very good or</td>\n",
              "    </tr>\n",
              "    <tr>\n",
              "      <td>2</td>\n",
              "      <td>xxmaj carolina- thank you ! xxmaj heading to xxmaj johnstown , xxmaj pennsylvania now ! xxmaj get out on xxmaj november 8th … https : / / t.co / xxunk xxbos xxmaj newest xxmaj poll : xxmaj only 11 % in favor of starting ridiculous impeachment hearings . xxmaj well , let ’s see : xxmaj we have the xxmaj best xxmaj economy in xxmaj history , the xxmaj best</td>\n",
              "    </tr>\n",
              "    <tr>\n",
              "      <td>3</td>\n",
              "      <td>xxbos xxmaj leadership : xxmaj whatever happens , you 're responsible . xxmaj if it does n't happen , you 're responsible . xxbos xxmaj one thing has now been proven . xxmaj the xxmaj democrats do not care about xxmaj open xxmaj borders and all of the crime and drugs that xxmaj open xxmaj borders bring ! xxbos \" @danscavino : .@realdonaldtrump xxup rt : “ @tmz_sports : xxmaj</td>\n",
              "    </tr>\n",
              "    <tr>\n",
              "      <td>4</td>\n",
              "      <td>trump urges xxup gop to be ' mean as hell ' \" http : / / t.co / xxunk xxmaj via @cnnpolitics xxbos xxmaj the economy of the xxmaj united xxmaj states is stronger than ever before ! xxbos xxmaj looking forward to being interviewed by xxmaj sam xxmaj xxunk tomorrow at xxunk in xxmaj sioux xxmaj city at xxup 10am xxup ct ! xxmaj let ’s xxmaj make xxmaj</td>\n",
              "    </tr>\n",
              "  </tbody>\n",
              "</table>"
            ],
            "text/plain": [
              "<IPython.core.display.HTML object>"
            ]
          },
          "metadata": {
            "tags": []
          }
        },
        {
          "output_type": "display_data",
          "data": {
            "text/html": [
              "<table border=\"1\" class=\"dataframe\">\n",
              "  <thead>\n",
              "    <tr style=\"text-align: right;\">\n",
              "      <th>text</th>\n",
              "      <th>target</th>\n",
              "    </tr>\n",
              "  </thead>\n",
              "  <tbody>\n",
              "    <tr>\n",
              "      <td>xxbos xxup house xxup republicans xxup should xxup pass xxup the xxup strong xxup but xxup fair xxup immigration xxup bill , xxup known xxup as xxup goodlatte xxup ii , xxup in xxup their xxup afternoon xxup vote xxup today , xxup even xxup though xxup the xxup dems xxup won’t xxup let xxup it xxup pass xxup in xxup the xxup senate . xxup passage xxup will xxup</td>\n",
              "      <td>True</td>\n",
              "    </tr>\n",
              "    <tr>\n",
              "      <td>xxbos xxmaj to the @navalacademy xxmaj class of 2018 , i say : xxmaj we know you are up to the task . xxmaj we know you will make us proud . xxmaj we know that glory will be yours . xxmaj because you are xxup winners , you are xxup warriors , you are xxup fighters , you are xxup champions , and xxup you will lead us to</td>\n",
              "      <td>True</td>\n",
              "    </tr>\n",
              "    <tr>\n",
              "      <td>xxbos xxrep 5 . are there no “ xxmaj high xxmaj crimes and xxmaj misdemeanors , ” there are no xxmaj crimes by me at all . xxmaj all of the xxmaj crimes were committed by xxmaj crooked xxmaj hillary , the xxmaj dems , the xxup dnc and xxmaj dirty xxmaj cops - and we caught them in the act ! xxmaj we waited for xxmaj mueller and xxup</td>\n",
              "      <td>True</td>\n",
              "    </tr>\n",
              "    <tr>\n",
              "      <td>xxbos @marklevinshow xxmaj mark xxmaj levin : “ xxmaj we ought to talk about the substance of this phone call . xxmaj we have the call , i do n’t know what we need witnesses for ? xxmaj ca n’t we read xxmaj english ? xxmaj do i need a xxmaj whistleblower to tell me what i ’m reading ? xxmaj do i need a xxmaj lt . xxup c.</td>\n",
              "      <td>True</td>\n",
              "    </tr>\n",
              "    <tr>\n",
              "      <td>xxbos xxmaj watch xxmaj mark xxmaj levin interview of xxmaj charlie xxmaj kirk tonight at 11:00 xxup p.m. on @foxnews . xxmaj amazing ! ! ! xxmaj and , while you ’re at it , go get xxmaj charlie ’s new book , “ xxmaj the xxup maga xxmaj doctrine : xxmaj the xxmaj only xxmaj ideas xxmaj that xxmaj will xxmaj win the xxmaj xxunk ... xxmaj this is</td>\n",
              "      <td>True</td>\n",
              "    </tr>\n",
              "  </tbody>\n",
              "</table>"
            ],
            "text/plain": [
              "<IPython.core.display.HTML object>"
            ]
          },
          "metadata": {
            "tags": []
          }
        }
      ]
    },
    {
      "cell_type": "code",
      "metadata": {
        "id": "9nqC0CTV5M5C",
        "colab_type": "code",
        "colab": {}
      },
      "source": [
        ""
      ],
      "execution_count": 0,
      "outputs": []
    },
    {
      "cell_type": "code",
      "metadata": {
        "id": "voKbFD8Dc5Tg",
        "colab_type": "code",
        "colab": {}
      },
      "source": [
        "data_lm.save('data_lm_export.pkl')\n",
        "data_clas.save('data_clas_export.pkl')"
      ],
      "execution_count": 0,
      "outputs": []
    },
    {
      "cell_type": "code",
      "metadata": {
        "id": "vHUW6nWMc5XR",
        "colab_type": "code",
        "colab": {}
      },
      "source": [
        "data_lm = load_data(path, 'data_lm_export.pkl')\n",
        "data_clas = load_data(path, 'data_clas_export.pkl', bs=32)"
      ],
      "execution_count": 0,
      "outputs": []
    },
    {
      "cell_type": "code",
      "metadata": {
        "id": "nPEaMrnTc5ah",
        "colab_type": "code",
        "colab": {}
      },
      "source": [
        "# Train a language model\n",
        "learn = language_model_learner(data_lm, AWD_LSTM, drop_mult=0.5)"
      ],
      "execution_count": 0,
      "outputs": []
    },
    {
      "cell_type": "code",
      "metadata": {
        "id": "TuAOKedncj9j",
        "colab_type": "code",
        "outputId": "69dc047d-6d1e-468f-c0c2-c4b79f639140",
        "colab": {
          "base_uri": "https://localhost:8080/",
          "height": 112
        }
      },
      "source": [
        "learn.lr_find()"
      ],
      "execution_count": 48,
      "outputs": [
        {
          "output_type": "display_data",
          "data": {
            "text/html": [
              "\n",
              "    <div>\n",
              "        <style>\n",
              "            /* Turns off some styling */\n",
              "            progress {\n",
              "                /* gets rid of default border in Firefox and Opera. */\n",
              "                border: none;\n",
              "                /* Needs to be in here for Safari polyfill so background images work as expected. */\n",
              "                background-size: auto;\n",
              "            }\n",
              "            .progress-bar-interrupted, .progress-bar-interrupted::-webkit-progress-bar {\n",
              "                background: #F44336;\n",
              "            }\n",
              "        </style>\n",
              "      <progress value='0' class='' max='1' style='width:300px; height:20px; vertical-align: middle;'></progress>\n",
              "      0.00% [0/1 00:00<00:00]\n",
              "    </div>\n",
              "    \n",
              "<table border=\"1\" class=\"dataframe\">\n",
              "  <thead>\n",
              "    <tr style=\"text-align: left;\">\n",
              "      <th>epoch</th>\n",
              "      <th>train_loss</th>\n",
              "      <th>valid_loss</th>\n",
              "      <th>accuracy</th>\n",
              "      <th>time</th>\n",
              "    </tr>\n",
              "  </thead>\n",
              "  <tbody>\n",
              "  </tbody>\n",
              "</table><p>\n",
              "\n",
              "    <div>\n",
              "        <style>\n",
              "            /* Turns off some styling */\n",
              "            progress {\n",
              "                /* gets rid of default border in Firefox and Opera. */\n",
              "                border: none;\n",
              "                /* Needs to be in here for Safari polyfill so background images work as expected. */\n",
              "                background-size: auto;\n",
              "            }\n",
              "            .progress-bar-interrupted, .progress-bar-interrupted::-webkit-progress-bar {\n",
              "                background: #F44336;\n",
              "            }\n",
              "        </style>\n",
              "      <progress value='99' class='' max='237' style='width:300px; height:20px; vertical-align: middle;'></progress>\n",
              "      41.77% [99/237 00:11<00:15 9.9883]\n",
              "    </div>\n",
              "    "
            ],
            "text/plain": [
              "<IPython.core.display.HTML object>"
            ]
          },
          "metadata": {
            "tags": []
          }
        },
        {
          "output_type": "stream",
          "text": [
            "LR Finder is complete, type {learner_name}.recorder.plot() to see the graph.\n"
          ],
          "name": "stdout"
        }
      ]
    },
    {
      "cell_type": "code",
      "metadata": {
        "id": "I7FZee1Fcj_m",
        "colab_type": "code",
        "outputId": "5f21f71d-8a3e-4c71-b8ba-52f0771469d5",
        "colab": {
          "base_uri": "https://localhost:8080/",
          "height": 279
        }
      },
      "source": [
        "learn.recorder.plot(skip_end=15)"
      ],
      "execution_count": 49,
      "outputs": [
        {
          "output_type": "display_data",
          "data": {
            "image/png": "[encoded data removed]",
            "text/plain": [
              "<Figure size 432x288 with 1 Axes>"
            ]
          },
          "metadata": {
            "tags": [],
            "needs_background": "light"
          }
        }
      ]
    },
    {
      "cell_type": "code",
      "metadata": {
        "id": "toN69gZ3ckBy",
        "colab_type": "code",
        "outputId": "32215e71-2a83-4ebf-c3d7-d90a4533130a",
        "colab": {
          "base_uri": "https://localhost:8080/",
          "height": 80
        }
      },
      "source": [
        "learn.fit_one_cycle(1, 1e-2) # one time through without last layer"
      ],
      "execution_count": 50,
      "outputs": [
        {
          "output_type": "display_data",
          "data": {
            "text/html": [
              "<table border=\"1\" class=\"dataframe\">\n",
              "  <thead>\n",
              "    <tr style=\"text-align: left;\">\n",
              "      <th>epoch</th>\n",
              "      <th>train_loss</th>\n",
              "      <th>valid_loss</th>\n",
              "      <th>accuracy</th>\n",
              "      <th>time</th>\n",
              "    </tr>\n",
              "  </thead>\n",
              "  <tbody>\n",
              "    <tr>\n",
              "      <td>0</td>\n",
              "      <td>3.750671</td>\n",
              "      <td>3.440578</td>\n",
              "      <td>0.360052</td>\n",
              "      <td>00:30</td>\n",
              "    </tr>\n",
              "  </tbody>\n",
              "</table>"
            ],
            "text/plain": [
              "<IPython.core.display.HTML object>"
            ]
          },
          "metadata": {
            "tags": []
          }
        }
      ]
    },
    {
      "cell_type": "code",
      "metadata": {
        "id": "nTSJXtx4ckEF",
        "colab_type": "code",
        "outputId": "13518b12-e81f-4a39-aac3-855b1e63542e",
        "colab": {
          "base_uri": "https://localhost:8080/",
          "height": 80
        }
      },
      "source": [
        "learn.unfreeze() # train full network\n",
        "learn.fit_one_cycle(1, 1e-3) # low learning rate stops weights from changing too much (10x smaller)"
      ],
      "execution_count": 51,
      "outputs": [
        {
          "output_type": "display_data",
          "data": {
            "text/html": [
              "<table border=\"1\" class=\"dataframe\">\n",
              "  <thead>\n",
              "    <tr style=\"text-align: left;\">\n",
              "      <th>epoch</th>\n",
              "      <th>train_loss</th>\n",
              "      <th>valid_loss</th>\n",
              "      <th>accuracy</th>\n",
              "      <th>time</th>\n",
              "    </tr>\n",
              "  </thead>\n",
              "  <tbody>\n",
              "    <tr>\n",
              "      <td>0</td>\n",
              "      <td>3.264095</td>\n",
              "      <td>3.183439</td>\n",
              "      <td>0.396161</td>\n",
              "      <td>00:36</td>\n",
              "    </tr>\n",
              "  </tbody>\n",
              "</table>"
            ],
            "text/plain": [
              "<IPython.core.display.HTML object>"
            ]
          },
          "metadata": {
            "tags": []
          }
        }
      ]
    },
    {
      "cell_type": "code",
      "metadata": {
        "id": "qCsQXR35ckGu",
        "colab_type": "code",
        "outputId": "2ca3c4d3-927d-4f68-b82f-9cd7e96f27db",
        "colab": {
          "base_uri": "https://localhost:8080/",
          "height": 34
        }
      },
      "source": [
        "learn.predict(\"It's wonderful that\", n_words=15)"
      ],
      "execution_count": 53,
      "outputs": [
        {
          "output_type": "execute_result",
          "data": {
            "text/plain": [
              "\"It's wonderful that Hillary ’s lies and lack of rove , turned down by so many ratings\""
            ]
          },
          "metadata": {
            "tags": []
          },
          "execution_count": 53
        }
      ]
    },
    {
      "cell_type": "code",
      "metadata": {
        "id": "cvpF4MgfckJT",
        "colab_type": "code",
        "colab": {}
      },
      "source": [
        "learn.save_encoder('ft_enc')"
      ],
      "execution_count": 0,
      "outputs": []
    },
    {
      "cell_type": "code",
      "metadata": {
        "id": "M5IyonfTckLx",
        "colab_type": "code",
        "colab": {
          "base_uri": "https://localhost:8080/",
          "height": 1000
        },
        "outputId": "dc5f7910-27bc-407d-dd95-5ae0724ee701"
      },
      "source": [
        "learn = text_classifier_learner(data_clas, AWD_LSTM, drop_mult=0.5)\n",
        "learn.load_encoder('ft_enc')"
      ],
      "execution_count": 55,
      "outputs": [
        {
          "output_type": "execute_result",
          "data": {
            "text/plain": [
              "RNNLearner(data=TextClasDataBunch;\n",
              "\n",
              "Train: LabelList (33537 items)\n",
              "x: TextList\n",
              "xxbos i will write a $ 2 xxup million check to our campaign if we hit our million - dollar end - of - month goal ! https : / / t.co / futugi2r2k,xxbos xxmaj great job , just in time ! https : / / t.co / xxunk,xxbos xxup .@gop has leverage . xxmaj must stay united & & on message .,xxbos \" xxunk : xxmaj not to mention we already had two xxmaj bush presidents , neither of which were too successful . xxmaj insanity would be to want a third . \",xxbos xxmaj within the heart of beautiful xxmaj somerset xxmaj county , xxmaj trump xxmaj nat’l xxmaj bedminster is the proud host of the 2022 @pgachampionship http : / / t.co / o4bycblewo\n",
              "y: CategoryList\n",
              "False,True,False,False,False\n",
              "Path: /content/drive/My Drive;\n",
              "\n",
              "Valid: LabelList (8384 items)\n",
              "x: TextList\n",
              "xxbos xxmaj the ratings for xxmaj the xxmaj view are really low . xxmaj nicole xxmaj wallace and xxmaj xxunk xxmaj xxunk are a disaster . xxmaj get new cast or just put it to sleep . xxmaj dead xxup t.v.,xxbos xxmaj this is a very important time in our country . xxmaj due xxmaj process , xxmaj fairness and xxmaj common xxmaj sense are now on trial !,xxbos xxmaj thank you xxmaj toledo , xxmaj ohio ! xxmaj it is so important for you to get out and xxup vote on xxmaj november 8 , 2016 ! xxmaj lets xxup make xxup america xxup safe … https : / / t.co / xxunk,xxbos xxmaj my @foxnews interview with @teamcavuto discussing my endorsement of @mittromney and how i came to my decision http : / / t.co / xxunk,xxbos xxmaj between a terrible press conference , xxunk prisoner swap & & xxmaj taliban attacks , xxmaj hagel 's 1st trip as xxup sod was a disaster . xxmaj no surprise .\n",
              "y: CategoryList\n",
              "False,True,False,False,False\n",
              "Path: /content/drive/My Drive;\n",
              "\n",
              "Test: None, model=SequentialRNN(\n",
              "  (0): MultiBatchEncoder(\n",
              "    (module): AWD_LSTM(\n",
              "      (encoder): Embedding(15200, 400, padding_idx=1)\n",
              "      (encoder_dp): EmbeddingDropout(\n",
              "        (emb): Embedding(15200, 400, padding_idx=1)\n",
              "      )\n",
              "      (rnns): ModuleList(\n",
              "        (0): WeightDropout(\n",
              "          (module): LSTM(400, 1152, batch_first=True)\n",
              "        )\n",
              "        (1): WeightDropout(\n",
              "          (module): LSTM(1152, 1152, batch_first=True)\n",
              "        )\n",
              "        (2): WeightDropout(\n",
              "          (module): LSTM(1152, 400, batch_first=True)\n",
              "        )\n",
              "      )\n",
              "      (input_dp): RNNDropout()\n",
              "      (hidden_dps): ModuleList(\n",
              "        (0): RNNDropout()\n",
              "        (1): RNNDropout()\n",
              "        (2): RNNDropout()\n",
              "      )\n",
              "    )\n",
              "  )\n",
              "  (1): PoolingLinearClassifier(\n",
              "    (layers): Sequential(\n",
              "      (0): BatchNorm1d(1200, eps=1e-05, momentum=0.1, affine=True, track_running_stats=True)\n",
              "      (1): Dropout(p=0.2, inplace=False)\n",
              "      (2): Linear(in_features=1200, out_features=50, bias=True)\n",
              "      (3): ReLU(inplace=True)\n",
              "      (4): BatchNorm1d(50, eps=1e-05, momentum=0.1, affine=True, track_running_stats=True)\n",
              "      (5): Dropout(p=0.1, inplace=False)\n",
              "      (6): Linear(in_features=50, out_features=2, bias=True)\n",
              "    )\n",
              "  )\n",
              "), opt_func=functools.partial(<class 'torch.optim.adam.Adam'>, betas=(0.9, 0.99)), loss_func=FlattenedLoss of CrossEntropyLoss(), metrics=[<function accuracy at 0x7fc20a613510>], true_wd=True, bn_wd=True, wd=0.01, train_bn=True, path=PosixPath('/content/drive/My Drive'), model_dir='models', callback_fns=[functools.partial(<class 'fastai.basic_train.Recorder'>, add_time=True, silent=False)], callbacks=[RNNTrainer\n",
              "learn: RNNLearner(data=TextClasDataBunch;\n",
              "\n",
              "Train: LabelList (33537 items)\n",
              "x: TextList\n",
              "xxbos i will write a $ 2 xxup million check to our campaign if we hit our million - dollar end - of - month goal ! https : / / t.co / futugi2r2k,xxbos xxmaj great job , just in time ! https : / / t.co / xxunk,xxbos xxup .@gop has leverage . xxmaj must stay united & & on message .,xxbos \" xxunk : xxmaj not to mention we already had two xxmaj bush presidents , neither of which were too successful . xxmaj insanity would be to want a third . \",xxbos xxmaj within the heart of beautiful xxmaj somerset xxmaj county , xxmaj trump xxmaj nat’l xxmaj bedminster is the proud host of the 2022 @pgachampionship http : / / t.co / o4bycblewo\n",
              "y: CategoryList\n",
              "False,True,False,False,False\n",
              "Path: /content/drive/My Drive;\n",
              "\n",
              "Valid: LabelList (8384 items)\n",
              "x: TextList\n",
              "xxbos xxmaj the ratings for xxmaj the xxmaj view are really low . xxmaj nicole xxmaj wallace and xxmaj xxunk xxmaj xxunk are a disaster . xxmaj get new cast or just put it to sleep . xxmaj dead xxup t.v.,xxbos xxmaj this is a very important time in our country . xxmaj due xxmaj process , xxmaj fairness and xxmaj common xxmaj sense are now on trial !,xxbos xxmaj thank you xxmaj toledo , xxmaj ohio ! xxmaj it is so important for you to get out and xxup vote on xxmaj november 8 , 2016 ! xxmaj lets xxup make xxup america xxup safe … https : / / t.co / xxunk,xxbos xxmaj my @foxnews interview with @teamcavuto discussing my endorsement of @mittromney and how i came to my decision http : / / t.co / xxunk,xxbos xxmaj between a terrible press conference , xxunk prisoner swap & & xxmaj taliban attacks , xxmaj hagel 's 1st trip as xxup sod was a disaster . xxmaj no surprise .\n",
              "y: CategoryList\n",
              "False,True,False,False,False\n",
              "Path: /content/drive/My Drive;\n",
              "\n",
              "Test: None, model=SequentialRNN(\n",
              "  (0): MultiBatchEncoder(\n",
              "    (module): AWD_LSTM(\n",
              "      (encoder): Embedding(15200, 400, padding_idx=1)\n",
              "      (encoder_dp): EmbeddingDropout(\n",
              "        (emb): Embedding(15200, 400, padding_idx=1)\n",
              "      )\n",
              "      (rnns): ModuleList(\n",
              "        (0): WeightDropout(\n",
              "          (module): LSTM(400, 1152, batch_first=True)\n",
              "        )\n",
              "        (1): WeightDropout(\n",
              "          (module): LSTM(1152, 1152, batch_first=True)\n",
              "        )\n",
              "        (2): WeightDropout(\n",
              "          (module): LSTM(1152, 400, batch_first=True)\n",
              "        )\n",
              "      )\n",
              "      (input_dp): RNNDropout()\n",
              "      (hidden_dps): ModuleList(\n",
              "        (0): RNNDropout()\n",
              "        (1): RNNDropout()\n",
              "        (2): RNNDropout()\n",
              "      )\n",
              "    )\n",
              "  )\n",
              "  (1): PoolingLinearClassifier(\n",
              "    (layers): Sequential(\n",
              "      (0): BatchNorm1d(1200, eps=1e-05, momentum=0.1, affine=True, track_running_stats=True)\n",
              "      (1): Dropout(p=0.2, inplace=False)\n",
              "      (2): Linear(in_features=1200, out_features=50, bias=True)\n",
              "      (3): ReLU(inplace=True)\n",
              "      (4): BatchNorm1d(50, eps=1e-05, momentum=0.1, affine=True, track_running_stats=True)\n",
              "      (5): Dropout(p=0.1, inplace=False)\n",
              "      (6): Linear(in_features=50, out_features=2, bias=True)\n",
              "    )\n",
              "  )\n",
              "), opt_func=functools.partial(<class 'torch.optim.adam.Adam'>, betas=(0.9, 0.99)), loss_func=FlattenedLoss of CrossEntropyLoss(), metrics=[<function accuracy at 0x7fc20a613510>], true_wd=True, bn_wd=True, wd=0.01, train_bn=True, path=PosixPath('/content/drive/My Drive'), model_dir='models', callback_fns=[functools.partial(<class 'fastai.basic_train.Recorder'>, add_time=True, silent=False)], callbacks=[...], layer_groups=[Sequential(\n",
              "  (0): Embedding(15200, 400, padding_idx=1)\n",
              "  (1): EmbeddingDropout(\n",
              "    (emb): Embedding(15200, 400, padding_idx=1)\n",
              "  )\n",
              "), Sequential(\n",
              "  (0): WeightDropout(\n",
              "    (module): LSTM(400, 1152, batch_first=True)\n",
              "  )\n",
              "  (1): RNNDropout()\n",
              "), Sequential(\n",
              "  (0): WeightDropout(\n",
              "    (module): LSTM(1152, 1152, batch_first=True)\n",
              "  )\n",
              "  (1): RNNDropout()\n",
              "), Sequential(\n",
              "  (0): WeightDropout(\n",
              "    (module): LSTM(1152, 400, batch_first=True)\n",
              "  )\n",
              "  (1): RNNDropout()\n",
              "), Sequential(\n",
              "  (0): PoolingLinearClassifier(\n",
              "    (layers): Sequential(\n",
              "      (0): BatchNorm1d(1200, eps=1e-05, momentum=0.1, affine=True, track_running_stats=True)\n",
              "      (1): Dropout(p=0.2, inplace=False)\n",
              "      (2): Linear(in_features=1200, out_features=50, bias=True)\n",
              "      (3): ReLU(inplace=True)\n",
              "      (4): BatchNorm1d(50, eps=1e-05, momentum=0.1, affine=True, track_running_stats=True)\n",
              "      (5): Dropout(p=0.1, inplace=False)\n",
              "      (6): Linear(in_features=50, out_features=2, bias=True)\n",
              "    )\n",
              "  )\n",
              ")], add_time=True, silent=False)\n",
              "alpha: 2.0\n",
              "beta: 1.0], layer_groups=[Sequential(\n",
              "  (0): Embedding(15200, 400, padding_idx=1)\n",
              "  (1): EmbeddingDropout(\n",
              "    (emb): Embedding(15200, 400, padding_idx=1)\n",
              "  )\n",
              "), Sequential(\n",
              "  (0): WeightDropout(\n",
              "    (module): LSTM(400, 1152, batch_first=True)\n",
              "  )\n",
              "  (1): RNNDropout()\n",
              "), Sequential(\n",
              "  (0): WeightDropout(\n",
              "    (module): LSTM(1152, 1152, batch_first=True)\n",
              "  )\n",
              "  (1): RNNDropout()\n",
              "), Sequential(\n",
              "  (0): WeightDropout(\n",
              "    (module): LSTM(1152, 400, batch_first=True)\n",
              "  )\n",
              "  (1): RNNDropout()\n",
              "), Sequential(\n",
              "  (0): PoolingLinearClassifier(\n",
              "    (layers): Sequential(\n",
              "      (0): BatchNorm1d(1200, eps=1e-05, momentum=0.1, affine=True, track_running_stats=True)\n",
              "      (1): Dropout(p=0.2, inplace=False)\n",
              "      (2): Linear(in_features=1200, out_features=50, bias=True)\n",
              "      (3): ReLU(inplace=True)\n",
              "      (4): BatchNorm1d(50, eps=1e-05, momentum=0.1, affine=True, track_running_stats=True)\n",
              "      (5): Dropout(p=0.1, inplace=False)\n",
              "      (6): Linear(in_features=50, out_features=2, bias=True)\n",
              "    )\n",
              "  )\n",
              ")], add_time=True, silent=False)"
            ]
          },
          "metadata": {
            "tags": []
          },
          "execution_count": 55
        }
      ]
    },
    {
      "cell_type": "code",
      "metadata": {
        "id": "IIlyDZX4ckNT",
        "colab_type": "code",
        "outputId": "477effff-3cee-418e-d25e-f3d04f478c36",
        "colab": {
          "base_uri": "https://localhost:8080/",
          "height": 80
        }
      },
      "source": [
        "learn.fit_one_cycle(1, 1e-2)"
      ],
      "execution_count": 56,
      "outputs": [
        {
          "output_type": "display_data",
          "data": {
            "text/html": [
              "<table border=\"1\" class=\"dataframe\">\n",
              "  <thead>\n",
              "    <tr style=\"text-align: left;\">\n",
              "      <th>epoch</th>\n",
              "      <th>train_loss</th>\n",
              "      <th>valid_loss</th>\n",
              "      <th>accuracy</th>\n",
              "      <th>time</th>\n",
              "    </tr>\n",
              "  </thead>\n",
              "  <tbody>\n",
              "    <tr>\n",
              "      <td>0</td>\n",
              "      <td>0.514528</td>\n",
              "      <td>0.284141</td>\n",
              "      <td>0.886093</td>\n",
              "      <td>00:20</td>\n",
              "    </tr>\n",
              "  </tbody>\n",
              "</table>"
            ],
            "text/plain": [
              "<IPython.core.display.HTML object>"
            ]
          },
          "metadata": {
            "tags": []
          }
        }
      ]
    },
    {
      "cell_type": "code",
      "metadata": {
        "id": "9Epr6pjSckPG",
        "colab_type": "code",
        "outputId": "62039587-7c04-43d9-b239-1c2838045b4c",
        "colab": {
          "base_uri": "https://localhost:8080/",
          "height": 80
        }
      },
      "source": [
        "# unfreeze last two layers and fine-tune\n",
        "learn.freeze_to(-2)\n",
        "\n",
        " # train the first layers at lr ... and the last layers at lr .. and the rest in between\n",
        "learn.fit_one_cycle(1, slice(5e-3/2., 5e-3))"
      ],
      "execution_count": 57,
      "outputs": [
        {
          "output_type": "display_data",
          "data": {
            "text/html": [
              "<table border=\"1\" class=\"dataframe\">\n",
              "  <thead>\n",
              "    <tr style=\"text-align: left;\">\n",
              "      <th>epoch</th>\n",
              "      <th>train_loss</th>\n",
              "      <th>valid_loss</th>\n",
              "      <th>accuracy</th>\n",
              "      <th>time</th>\n",
              "    </tr>\n",
              "  </thead>\n",
              "  <tbody>\n",
              "    <tr>\n",
              "      <td>0</td>\n",
              "      <td>0.378303</td>\n",
              "      <td>0.203288</td>\n",
              "      <td>0.937858</td>\n",
              "      <td>00:23</td>\n",
              "    </tr>\n",
              "  </tbody>\n",
              "</table>"
            ],
            "text/plain": [
              "<IPython.core.display.HTML object>"
            ]
          },
          "metadata": {
            "tags": []
          }
        }
      ]
    },
    {
      "cell_type": "code",
      "metadata": {
        "id": "PkSGUmHRckQk",
        "colab_type": "code",
        "outputId": "6a959612-2ad8-41ff-898a-f987dfcb0a3d",
        "colab": {
          "base_uri": "https://localhost:8080/",
          "height": 359
        }
      },
      "source": [
        "learn.unfreeze() # fine tune all the layers \n",
        "learn.fit_one_cycle(10, slice(2e-3/100, 2e-3)) # run this twice to max out accuracy"
      ],
      "execution_count": 58,
      "outputs": [
        {
          "output_type": "display_data",
          "data": {
            "text/html": [
              "<table border=\"1\" class=\"dataframe\">\n",
              "  <thead>\n",
              "    <tr style=\"text-align: left;\">\n",
              "      <th>epoch</th>\n",
              "      <th>train_loss</th>\n",
              "      <th>valid_loss</th>\n",
              "      <th>accuracy</th>\n",
              "      <th>time</th>\n",
              "    </tr>\n",
              "  </thead>\n",
              "  <tbody>\n",
              "    <tr>\n",
              "      <td>0</td>\n",
              "      <td>0.426674</td>\n",
              "      <td>0.175663</td>\n",
              "      <td>0.939885</td>\n",
              "      <td>00:50</td>\n",
              "    </tr>\n",
              "    <tr>\n",
              "      <td>1</td>\n",
              "      <td>0.383123</td>\n",
              "      <td>0.166014</td>\n",
              "      <td>0.940124</td>\n",
              "      <td>00:54</td>\n",
              "    </tr>\n",
              "    <tr>\n",
              "      <td>2</td>\n",
              "      <td>0.369085</td>\n",
              "      <td>0.161757</td>\n",
              "      <td>0.945253</td>\n",
              "      <td>00:52</td>\n",
              "    </tr>\n",
              "    <tr>\n",
              "      <td>3</td>\n",
              "      <td>0.325295</td>\n",
              "      <td>0.135027</td>\n",
              "      <td>0.960878</td>\n",
              "      <td>00:48</td>\n",
              "    </tr>\n",
              "    <tr>\n",
              "      <td>4</td>\n",
              "      <td>0.327484</td>\n",
              "      <td>0.127610</td>\n",
              "      <td>0.957538</td>\n",
              "      <td>00:52</td>\n",
              "    </tr>\n",
              "    <tr>\n",
              "      <td>5</td>\n",
              "      <td>0.217986</td>\n",
              "      <td>0.147739</td>\n",
              "      <td>0.955272</td>\n",
              "      <td>00:50</td>\n",
              "    </tr>\n",
              "    <tr>\n",
              "      <td>6</td>\n",
              "      <td>0.212651</td>\n",
              "      <td>0.110524</td>\n",
              "      <td>0.960997</td>\n",
              "      <td>00:53</td>\n",
              "    </tr>\n",
              "    <tr>\n",
              "      <td>7</td>\n",
              "      <td>0.160945</td>\n",
              "      <td>0.119675</td>\n",
              "      <td>0.959924</td>\n",
              "      <td>00:50</td>\n",
              "    </tr>\n",
              "    <tr>\n",
              "      <td>8</td>\n",
              "      <td>0.182971</td>\n",
              "      <td>0.123890</td>\n",
              "      <td>0.958254</td>\n",
              "      <td>00:50</td>\n",
              "    </tr>\n",
              "    <tr>\n",
              "      <td>9</td>\n",
              "      <td>0.138539</td>\n",
              "      <td>0.105388</td>\n",
              "      <td>0.962190</td>\n",
              "      <td>00:52</td>\n",
              "    </tr>\n",
              "  </tbody>\n",
              "</table>"
            ],
            "text/plain": [
              "<IPython.core.display.HTML object>"
            ]
          },
          "metadata": {
            "tags": []
          }
        }
      ]
    },
    {
      "cell_type": "code",
      "metadata": {
        "id": "Do8SnjqVckSD",
        "colab_type": "code",
        "outputId": "122029bf-797a-4b76-a371-4a679f4cb7f5",
        "colab": {
          "base_uri": "https://localhost:8080/",
          "height": 34
        }
      },
      "source": [
        "# is it presidential?\n",
        "\n",
        "# 0 is False, 1 is True\n",
        "\n",
        "learn.predict('Governor @GavinNewsom of California won’t let restaurants, beaches and stores open, \\\n",
        "                but he installs a voting both system in a highly Democrat area (supposed to be mail in \\\n",
        "                ballots only) because our great candidate, @MikeGarcia2020, is winning by a lot. CA25  Rigged Election!') # 5/9/2020"
      ],
      "execution_count": 69,
      "outputs": [
        {
          "output_type": "execute_result",
          "data": {
            "text/plain": [
              "(Category tensor(1), tensor(1), tensor([0.2410, 0.7590]))"
            ]
          },
          "metadata": {
            "tags": []
          },
          "execution_count": 69
        }
      ]
    },
    {
      "cell_type": "code",
      "metadata": {
        "id": "MGBXAtbWktwl",
        "colab_type": "code",
        "outputId": "2c2a7bae-5c11-437a-fc0a-ba1ee2dcc0d4",
        "colab": {
          "base_uri": "https://localhost:8080/",
          "height": 34
        }
      },
      "source": [
        "print(data_clas.classes)"
      ],
      "execution_count": 60,
      "outputs": [
        {
          "output_type": "stream",
          "text": [
            "[False, True]\n"
          ],
          "name": "stdout"
        }
      ]
    },
    {
      "cell_type": "code",
      "metadata": {
        "id": "o8RRr3IGktzR",
        "colab_type": "code",
        "outputId": "6f87deec-19dd-4be2-bd4d-656929a8ffdf",
        "colab": {
          "base_uri": "https://localhost:8080/",
          "height": 34
        }
      },
      "source": [
        "learn.predict('Women for Trump co-chair: Biden might not be ultimate nominee, and Dems engaging in elder abuse')"
      ],
      "execution_count": 61,
      "outputs": [
        {
          "output_type": "execute_result",
          "data": {
            "text/plain": [
              "(Category tensor(0), tensor(0), tensor([0.9755, 0.0245]))"
            ]
          },
          "metadata": {
            "tags": []
          },
          "execution_count": 61
        }
      ]
    },
    {
      "cell_type": "code",
      "metadata": {
        "id": "jg6VaAsokt18",
        "colab_type": "code",
        "outputId": "7d1d8167-dcdf-44ee-b15b-c0fca26be9d2",
        "colab": {
          "base_uri": "https://localhost:8080/",
          "height": 34
        }
      },
      "source": [
        "type(learn.predict('hello'))"
      ],
      "execution_count": 62,
      "outputs": [
        {
          "output_type": "execute_result",
          "data": {
            "text/plain": [
              "tuple"
            ]
          },
          "metadata": {
            "tags": []
          },
          "execution_count": 62
        }
      ]
    },
    {
      "cell_type": "code",
      "metadata": {
        "id": "8zImpjTukt4V",
        "colab_type": "code",
        "colab": {}
      },
      "source": [
        "# get predictions for each training sample\n",
        "\n",
        "# choose a certain threshold and look at the samples that have very high and very low probabilities\n",
        "\n",
        "# do word clouds for them? Or just look at the tweets"
      ],
      "execution_count": 0,
      "outputs": []
    },
    {
      "cell_type": "code",
      "metadata": {
        "id": "bmQBnnt0kt7S",
        "colab_type": "code",
        "colab": {}
      },
      "source": [
        "# TFIDF matrix ?? "
      ],
      "execution_count": 0,
      "outputs": []
    },
    {
      "cell_type": "code",
      "metadata": {
        "id": "VCGEBklykt-F",
        "colab_type": "code",
        "outputId": "ea13210f-8f72-48b1-8598-5b03bbd518fd",
        "colab": {
          "base_uri": "https://localhost:8080/",
          "height": 34
        }
      },
      "source": [
        "train_df.shape"
      ],
      "execution_count": 0,
      "outputs": [
        {
          "output_type": "execute_result",
          "data": {
            "text/plain": [
              "(33537, 3)"
            ]
          },
          "metadata": {
            "tags": []
          },
          "execution_count": 79
        }
      ]
    },
    {
      "cell_type": "code",
      "metadata": {
        "id": "TBZ-pjz8kuBK",
        "colab_type": "code",
        "outputId": "977c9212-4180-4772-ef84-b4ce2c0940b1",
        "colab": {
          "base_uri": "https://localhost:8080/",
          "height": 34
        }
      },
      "source": [
        "valid_df.shape"
      ],
      "execution_count": 0,
      "outputs": [
        {
          "output_type": "execute_result",
          "data": {
            "text/plain": [
              "(8384, 3)"
            ]
          },
          "metadata": {
            "tags": []
          },
          "execution_count": 80
        }
      ]
    },
    {
      "cell_type": "code",
      "metadata": {
        "id": "zYeUjywGkuDC",
        "colab_type": "code",
        "outputId": "b635f249-c86b-4515-9054-51a374fa8cdb",
        "colab": {
          "base_uri": "https://localhost:8080/",
          "height": 34
        }
      },
      "source": [
        "texts.columns"
      ],
      "execution_count": 0,
      "outputs": [
        {
          "output_type": "execute_result",
          "data": {
            "text/plain": [
              "Index(['label', 'text', 'is_valid'], dtype='object')"
            ]
          },
          "metadata": {
            "tags": []
          },
          "execution_count": 81
        }
      ]
    },
    {
      "cell_type": "code",
      "metadata": {
        "id": "wR8hk8iAU8js",
        "colab_type": "code",
        "colab": {}
      },
      "source": [
        "# texts['label_predict'] = [learn.predict(i) for i in texts['text']]\n",
        "train_df_predictions = []\n",
        "\n",
        "for tweet in train_df.text:\n",
        "  train_df_predictions.append(learn.predict(tweet))\n",
        "  if len(train_df_predictions) % 100 == 0:\n",
        "    print('predicted so far: ' + str(len(train_df_predictions)))"
      ],
      "execution_count": 0,
      "outputs": []
    },
    {
      "cell_type": "code",
      "metadata": {
        "id": "QJQDfUC5U8sV",
        "colab_type": "code",
        "outputId": "04fd0270-db02-4c90-c570-84c01b8f083c",
        "colab": {
          "base_uri": "https://localhost:8080/",
          "height": 119
        }
      },
      "source": [
        "train_df['predictions_2'] = train_df_predictions\n"
      ],
      "execution_count": 0,
      "outputs": [
        {
          "output_type": "stream",
          "text": [
            "/usr/local/lib/python3.6/dist-packages/ipykernel_launcher.py:1: SettingWithCopyWarning: \n",
            "A value is trying to be set on a copy of a slice from a DataFrame.\n",
            "Try using .loc[row_indexer,col_indexer] = value instead\n",
            "\n",
            "See the caveats in the documentation: https://pandas.pydata.org/pandas-docs/stable/user_guide/indexing.html#returning-a-view-versus-a-copy\n",
            "  \"\"\"Entry point for launching an IPython kernel.\n"
          ],
          "name": "stderr"
        }
      ]
    },
    {
      "cell_type": "code",
      "metadata": {
        "id": "mm5r8ZQaek_R",
        "colab_type": "code",
        "outputId": "a081a4a8-a920-424c-b590-369c2baf81fe",
        "colab": {
          "base_uri": "https://localhost:8080/",
          "height": 419
        }
      },
      "source": [
        "train_df"
      ],
      "execution_count": 0,
      "outputs": [
        {
          "output_type": "execute_result",
          "data": {
            "text/html": [
              "<div>\n",
              "<style scoped>\n",
              "    .dataframe tbody tr th:only-of-type {\n",
              "        vertical-align: middle;\n",
              "    }\n",
              "\n",
              "    .dataframe tbody tr th {\n",
              "        vertical-align: top;\n",
              "    }\n",
              "\n",
              "    .dataframe thead th {\n",
              "        text-align: right;\n",
              "    }\n",
              "</style>\n",
              "<table border=\"1\" class=\"dataframe\">\n",
              "  <thead>\n",
              "    <tr style=\"text-align: right;\">\n",
              "      <th></th>\n",
              "      <th>label</th>\n",
              "      <th>text</th>\n",
              "      <th>is_valid</th>\n",
              "      <th>predictions_2</th>\n",
              "    </tr>\n",
              "  </thead>\n",
              "  <tbody>\n",
              "    <tr>\n",
              "      <th>0</th>\n",
              "      <td>True</td>\n",
              "      <td>The riots in Charlottesville a year ago resulted in senseless death and divi...</td>\n",
              "      <td>False</td>\n",
              "      <td>(True, tensor(1), [tensor(0.2749), tensor(0.7251)])</td>\n",
              "    </tr>\n",
              "    <tr>\n",
              "      <th>1</th>\n",
              "      <td>False</td>\n",
              "      <td>\"@golf_com: .@realDonaldTrump's NYC course just opened, and it is spectacula...</td>\n",
              "      <td>False</td>\n",
              "      <td>(False, tensor(0), [tensor(0.9959), tensor(0.0041)])</td>\n",
              "    </tr>\n",
              "    <tr>\n",
              "      <th>2</th>\n",
              "      <td>False</td>\n",
              "      <td>\"@rick_royer: @realDonaldTrump on point as always\"</td>\n",
              "      <td>False</td>\n",
              "      <td>(False, tensor(0), [tensor(0.9966), tensor(0.0034)])</td>\n",
              "    </tr>\n",
              "    <tr>\n",
              "      <th>3</th>\n",
              "      <td>True</td>\n",
              "      <td>The American people deserve to know who is in this Country. Yesterday, the S...</td>\n",
              "      <td>False</td>\n",
              "      <td>(True, tensor(1), [tensor(0.3453), tensor(0.6547)])</td>\n",
              "    </tr>\n",
              "    <tr>\n",
              "      <th>4</th>\n",
              "      <td>False</td>\n",
              "      <td>\"@SassyPantsjj Please do more Apprentices', know you're busy but once a year...</td>\n",
              "      <td>False</td>\n",
              "      <td>(False, tensor(0), [tensor(0.9984), tensor(0.0016)])</td>\n",
              "    </tr>\n",
              "    <tr>\n",
              "      <th>...</th>\n",
              "      <td>...</td>\n",
              "      <td>...</td>\n",
              "      <td>...</td>\n",
              "      <td>...</td>\n",
              "    </tr>\n",
              "    <tr>\n",
              "      <th>41913</th>\n",
              "      <td>False</td>\n",
              "      <td>\"@Chris_R_2014: @megynkelly @realDonaldTrump - He would fix this complete me...</td>\n",
              "      <td>False</td>\n",
              "      <td>(False, tensor(0), [tensor(0.9982), tensor(0.0018)])</td>\n",
              "    </tr>\n",
              "    <tr>\n",
              "      <th>41914</th>\n",
              "      <td>False</td>\n",
              "      <td>.@tedcruz must be doing something right if @cher, sadly rated “the 4th uglie...</td>\n",
              "      <td>False</td>\n",
              "      <td>(False, tensor(0), [tensor(0.9800), tensor(0.0200)])</td>\n",
              "    </tr>\n",
              "    <tr>\n",
              "      <th>41915</th>\n",
              "      <td>True</td>\n",
              "      <td>...said was a total lie, but Fake Media won’t show it. I am an innocent man ...</td>\n",
              "      <td>False</td>\n",
              "      <td>(True, tensor(1), [tensor(6.1935e-18), tensor(1.)])</td>\n",
              "    </tr>\n",
              "    <tr>\n",
              "      <th>41916</th>\n",
              "      <td>False</td>\n",
              "      <td>Now he has made his Busey-ism into a song. #CelebApprentice</td>\n",
              "      <td>False</td>\n",
              "      <td>(False, tensor(0), [tensor(0.9853), tensor(0.0147)])</td>\n",
              "    </tr>\n",
              "    <tr>\n",
              "      <th>41920</th>\n",
              "      <td>True</td>\n",
              "      <td>...design or negotiations yet. When I do, just like with the F-35 FighterJet...</td>\n",
              "      <td>False</td>\n",
              "      <td>(True, tensor(1), [tensor(0.0155), tensor(0.9845)])</td>\n",
              "    </tr>\n",
              "  </tbody>\n",
              "</table>\n",
              "<p>33537 rows × 4 columns</p>\n",
              "</div>"
            ],
            "text/plain": [
              "       label  ...                                         predictions_2\n",
              "0       True  ...   (True, tensor(1), [tensor(0.2749), tensor(0.7251)])\n",
              "1      False  ...  (False, tensor(0), [tensor(0.9959), tensor(0.0041)])\n",
              "2      False  ...  (False, tensor(0), [tensor(0.9966), tensor(0.0034)])\n",
              "3       True  ...   (True, tensor(1), [tensor(0.3453), tensor(0.6547)])\n",
              "4      False  ...  (False, tensor(0), [tensor(0.9984), tensor(0.0016)])\n",
              "...      ...  ...                                                   ...\n",
              "41913  False  ...  (False, tensor(0), [tensor(0.9982), tensor(0.0018)])\n",
              "41914  False  ...  (False, tensor(0), [tensor(0.9800), tensor(0.0200)])\n",
              "41915   True  ...   (True, tensor(1), [tensor(6.1935e-18), tensor(1.)])\n",
              "41916  False  ...  (False, tensor(0), [tensor(0.9853), tensor(0.0147)])\n",
              "41920   True  ...   (True, tensor(1), [tensor(0.0155), tensor(0.9845)])\n",
              "\n",
              "[33537 rows x 4 columns]"
            ]
          },
          "metadata": {
            "tags": []
          },
          "execution_count": 84
        }
      ]
    },
    {
      "cell_type": "code",
      "metadata": {
        "id": "XhHO1XF0U8zU",
        "colab_type": "code",
        "colab": {}
      },
      "source": [
        "# train_df.to_csv('/content/drive/My Drive/twitter data/train_df_2.csv')"
      ],
      "execution_count": 0,
      "outputs": []
    },
    {
      "cell_type": "code",
      "metadata": {
        "id": "ghfLXC-EU85d",
        "colab_type": "code",
        "outputId": "1089aa5b-59c7-4d08-85da-80d24cfe3e1a",
        "colab": {
          "base_uri": "https://localhost:8080/",
          "height": 187
        }
      },
      "source": [
        "train_df.info()"
      ],
      "execution_count": 0,
      "outputs": [
        {
          "output_type": "stream",
          "text": [
            "<class 'pandas.core.frame.DataFrame'>\n",
            "Int64Index: 33537 entries, 0 to 41920\n",
            "Data columns (total 3 columns):\n",
            " #   Column    Non-Null Count  Dtype \n",
            "---  ------    --------------  ----- \n",
            " 0   label     33537 non-null  bool  \n",
            " 1   text      33537 non-null  object\n",
            " 2   is_valid  33537 non-null  bool  \n",
            "dtypes: bool(2), object(1)\n",
            "memory usage: 589.5+ KB\n"
          ],
          "name": "stdout"
        }
      ]
    },
    {
      "cell_type": "code",
      "metadata": {
        "id": "7YKlpDi7U8_x",
        "colab_type": "code",
        "colab": {
          "base_uri": "https://localhost:8080/",
          "height": 17
        },
        "outputId": "af63fe8f-8a7e-44fe-cbf0-12fe0ef9a51c"
      },
      "source": [
        "interp = TextClassificationInterpretation.from_learner(learn) "
      ],
      "execution_count": 66,
      "outputs": [
        {
          "output_type": "display_data",
          "data": {
            "text/html": [
              ""
            ],
            "text/plain": [
              "<IPython.core.display.HTML object>"
            ]
          },
          "metadata": {
            "tags": []
          }
        }
      ]
    },
    {
      "cell_type": "code",
      "metadata": {
        "id": "p3TuP_CyU9FU",
        "colab_type": "code",
        "colab": {
          "base_uri": "https://localhost:8080/",
          "height": 311
        },
        "outputId": "fea9c965-eccc-4a1f-ef1c-2324c1999549"
      },
      "source": [
        "interp.plot_confusion_matrix()"
      ],
      "execution_count": 67,
      "outputs": [
        {
          "output_type": "display_data",
          "data": {
            "image/png": "[encoded data removed]",
            "text/plain": [
              "<Figure size 432x288 with 1 Axes>"
            ]
          },
          "metadata": {
            "tags": [],
            "needs_background": "light"
          }
        }
      ]
    },
    {
      "cell_type": "code",
      "metadata": {
        "id": "_Y6vWvP8U9Kw",
        "colab_type": "code",
        "colab": {
          "base_uri": "https://localhost:8080/",
          "height": 122
        },
        "outputId": "9d484f95-813a-4a2b-90d3-e7f3f6898a5c"
      },
      "source": [
        "interp.show_intrinsic_attention('Governor @GavinNewsom of California won’t let restaurants, beaches and stores open, \\\n",
        "                but he installs a voting both system in a highly Democrat area (supposed to be mail in \\\n",
        "                ballots only) because our great candidate, @MikeGarcia2020, is winning by a lot. CA25  Rigged Election!')"
      ],
      "execution_count": 70,
      "outputs": [
        {
          "output_type": "stream",
          "text": [
            "/pytorch/aten/src/ATen/native/cuda/LegacyDefinitions.cpp:19: UserWarning: masked_fill_ received a mask with dtype torch.uint8, this behavior is now deprecated,please use a mask with dtype torch.bool instead.\n",
            "/pytorch/aten/src/ATen/native/cuda/LegacyDefinitions.cpp:19: UserWarning: masked_fill_ received a mask with dtype torch.uint8, this behavior is now deprecated,please use a mask with dtype torch.bool instead.\n"
          ],
          "name": "stderr"
        },
        {
          "output_type": "display_data",
          "data": {
            "text/html": [
              "<span style=\"font-family: monospace;\"><span title=\"0.058\" style=\"background-color: rgba(192, 26, 38, 0.5);\">xxbos</span> <span title=\"0.046\" style=\"background-color: rgba(186, 20, 38, 0.5);\">xxmaj</span> <span title=\"0.272\" style=\"background-color: rgba(250, 154, 88, 0.5);\">governor</span> <span title=\"0.427\" style=\"background-color: rgba(254, 232, 153, 0.5);\">@gavinnewsom</span> <span title=\"0.049\" style=\"background-color: rgba(188, 22, 38, 0.5);\">of</span> <span title=\"0.026\" style=\"background-color: rgba(176, 11, 38, 0.5);\">xxmaj</span> <span title=\"0.273\" style=\"background-color: rgba(250, 154, 88, 0.5);\">california</span> <span title=\"0.172\" style=\"background-color: rgba(236, 92, 59, 0.5);\">wo</span> <span title=\"0.064\" style=\"background-color: rgba(196, 30, 38, 0.5);\">n’t</span> <span title=\"0.121\" style=\"background-color: rgba(220, 58, 43, 0.5);\">let</span> <span title=\"0.320\" style=\"background-color: rgba(253, 182, 104, 0.5);\">restaurants</span> <span title=\"0.049\" style=\"background-color: rgba(188, 22, 38, 0.5);\">,</span> <span title=\"0.165\" style=\"background-color: rgba(233, 87, 57, 0.5);\">beaches</span> <span title=\"0.023\" style=\"background-color: rgba(174, 9, 38, 0.5);\">and</span> <span title=\"0.065\" style=\"background-color: rgba(196, 30, 38, 0.5);\">stores</span> <span title=\"0.056\" style=\"background-color: rgba(192, 26, 38, 0.5);\">open</span> <span title=\"0.026\" style=\"background-color: rgba(176, 11, 38, 0.5);\">,</span> <span title=\"0.049\" style=\"background-color: rgba(188, 22, 38, 0.5);\">but</span> <span title=\"0.052\" style=\"background-color: rgba(190, 24, 38, 0.5);\">he</span> <span title=\"0.126\" style=\"background-color: rgba(222, 63, 46, 0.5);\">xxunk</span> <span title=\"0.072\" style=\"background-color: rgba(200, 33, 38, 0.5);\">a</span> <span title=\"0.237\" style=\"background-color: rgba(247, 131, 77, 0.5);\">voting</span> <span title=\"0.069\" style=\"background-color: rgba(198, 32, 38, 0.5);\">both</span> <span title=\"0.106\" style=\"background-color: rgba(216, 51, 40, 0.5);\">system</span> <span title=\"0.054\" style=\"background-color: rgba(190, 24, 38, 0.5);\">in</span> <span title=\"0.044\" style=\"background-color: rgba(186, 20, 38, 0.5);\">a</span> <span title=\"0.183\" style=\"background-color: rgba(238, 97, 61, 0.5);\">highly</span> <span title=\"0.038\" style=\"background-color: rgba(182, 16, 38, 0.5);\">xxmaj</span> <span title=\"0.170\" style=\"background-color: rgba(234, 89, 58, 0.5);\">democrat</span> <span title=\"0.059\" style=\"background-color: rgba(194, 28, 38, 0.5);\">area</span> <span title=\"0.032\" style=\"background-color: rgba(180, 15, 38, 0.5);\">(</span> <span title=\"0.103\" style=\"background-color: rgba(215, 49, 39, 0.5);\">supposed</span> <span title=\"0.025\" style=\"background-color: rgba(176, 11, 38, 0.5);\">to</span> <span title=\"0.043\" style=\"background-color: rgba(186, 20, 38, 0.5);\">be</span> <span title=\"0.211\" style=\"background-color: rgba(245, 116, 70, 0.5);\">mail</span> <span title=\"0.028\" style=\"background-color: rgba(178, 13, 38, 0.5);\">in</span> <span title=\"0.111\" style=\"background-color: rgba(217, 53, 41, 0.5);\">ballots</span> <span title=\"0.032\" style=\"background-color: rgba(180, 15, 38, 0.5);\">only</span> <span title=\"0.024\" style=\"background-color: rgba(176, 11, 38, 0.5);\">)</span> <span title=\"0.064\" style=\"background-color: rgba(196, 30, 38, 0.5);\">because</span> <span title=\"0.104\" style=\"background-color: rgba(215, 49, 39, 0.5);\">our</span> <span title=\"0.119\" style=\"background-color: rgba(220, 58, 43, 0.5);\">great</span> <span title=\"0.085\" style=\"background-color: rgba(206, 39, 38, 0.5);\">candidate</span> <span title=\"0.027\" style=\"background-color: rgba(176, 11, 38, 0.5);\">,</span> <span title=\"0.235\" style=\"background-color: rgba(247, 131, 77, 0.5);\">@mikegarcia2020</span> <span title=\"0.019\" style=\"background-color: rgba(172, 7, 38, 0.5);\">,</span> <span title=\"0.031\" style=\"background-color: rgba(178, 13, 38, 0.5);\">is</span> <span title=\"0.088\" style=\"background-color: rgba(208, 41, 38, 0.5);\">winning</span> <span title=\"0.027\" style=\"background-color: rgba(176, 11, 38, 0.5);\">by</span> <span title=\"0.023\" style=\"background-color: rgba(174, 9, 38, 0.5);\">a</span> <span title=\"0.060\" style=\"background-color: rgba(194, 28, 38, 0.5);\">lot</span> <span title=\"0.041\" style=\"background-color: rgba(184, 18, 38, 0.5);\">.</span> <span title=\"0.091\" style=\"background-color: rgba(210, 43, 38, 0.5);\">xxup</span> <span title=\"1.000\" style=\"background-color: rgba(0, 104, 55, 0.5);\">ca25</span> <span title=\"0.120\" style=\"background-color: rgba(220, 58, 43, 0.5);\">xxmaj</span> <span title=\"0.636\" style=\"background-color: rgba(199, 231, 127, 0.5);\">rigged</span> <span title=\"0.074\" style=\"background-color: rgba(202, 35, 38, 0.5);\">xxmaj</span> <span title=\"0.192\" style=\"background-color: rgba(241, 104, 64, 0.5);\">election</span> <span title=\"0.125\" style=\"background-color: rgba(221, 61, 45, 0.5);\">!</span></span>"
            ],
            "text/plain": [
              "<IPython.core.display.HTML object>"
            ]
          },
          "metadata": {
            "tags": []
          }
        }
      ]
    },
    {
      "cell_type": "code",
      "metadata": {
        "id": "EYH-47qKU9Pr",
        "colab_type": "code",
        "colab": {}
      },
      "source": [
        ""
      ],
      "execution_count": 0,
      "outputs": []
    },
    {
      "cell_type": "code",
      "metadata": {
        "id": "azjtCCKFU9T2",
        "colab_type": "code",
        "colab": {}
      },
      "source": [
        ""
      ],
      "execution_count": 0,
      "outputs": []
    },
    {
      "cell_type": "code",
      "metadata": {
        "id": "bNKbF2MAU9Xi",
        "colab_type": "code",
        "colab": {}
      },
      "source": [
        ""
      ],
      "execution_count": 0,
      "outputs": []
    },
    {
      "cell_type": "code",
      "metadata": {
        "id": "CjHjpbKHU9b8",
        "colab_type": "code",
        "colab": {}
      },
      "source": [
        ""
      ],
      "execution_count": 0,
      "outputs": []
    },
    {
      "cell_type": "code",
      "metadata": {
        "id": "eMdmD6UuU9fU",
        "colab_type": "code",
        "colab": {}
      },
      "source": [
        ""
      ],
      "execution_count": 0,
      "outputs": []
    },
    {
      "cell_type": "code",
      "metadata": {
        "id": "Y7vJtIyaU9ic",
        "colab_type": "code",
        "colab": {}
      },
      "source": [
        ""
      ],
      "execution_count": 0,
      "outputs": []
    },
    {
      "cell_type": "code",
      "metadata": {
        "id": "fNUdeAQ6U9pV",
        "colab_type": "code",
        "colab": {}
      },
      "source": [
        ""
      ],
      "execution_count": 0,
      "outputs": []
    },
    {
      "cell_type": "code",
      "metadata": {
        "id": "rvdtPmE3U9vu",
        "colab_type": "code",
        "colab": {}
      },
      "source": [
        ""
      ],
      "execution_count": 0,
      "outputs": []
    },
    {
      "cell_type": "code",
      "metadata": {
        "id": "uB-NfpQCU9zW",
        "colab_type": "code",
        "colab": {}
      },
      "source": [
        ""
      ],
      "execution_count": 0,
      "outputs": []
    },
    {
      "cell_type": "code",
      "metadata": {
        "id": "M_ywe_WzU92b",
        "colab_type": "code",
        "colab": {}
      },
      "source": [
        ""
      ],
      "execution_count": 0,
      "outputs": []
    },
    {
      "cell_type": "code",
      "metadata": {
        "id": "shUXYcZdU959",
        "colab_type": "code",
        "colab": {}
      },
      "source": [
        ""
      ],
      "execution_count": 0,
      "outputs": []
    },
    {
      "cell_type": "code",
      "metadata": {
        "id": "QRj-TZwFU99N",
        "colab_type": "code",
        "colab": {}
      },
      "source": [
        ""
      ],
      "execution_count": 0,
      "outputs": []
    },
    {
      "cell_type": "code",
      "metadata": {
        "id": "5necxGHYU-Aq",
        "colab_type": "code",
        "colab": {}
      },
      "source": [
        ""
      ],
      "execution_count": 0,
      "outputs": []
    },
    {
      "cell_type": "code",
      "metadata": {
        "id": "80iWlVDjU-ET",
        "colab_type": "code",
        "colab": {}
      },
      "source": [
        ""
      ],
      "execution_count": 0,
      "outputs": []
    },
    {
      "cell_type": "code",
      "metadata": {
        "id": "9P5XPVMKU-Hr",
        "colab_type": "code",
        "colab": {}
      },
      "source": [
        ""
      ],
      "execution_count": 0,
      "outputs": []
    },
    {
      "cell_type": "code",
      "metadata": {
        "id": "qc0uyGmhU-LE",
        "colab_type": "code",
        "colab": {}
      },
      "source": [
        ""
      ],
      "execution_count": 0,
      "outputs": []
    },
    {
      "cell_type": "code",
      "metadata": {
        "id": "jqXNOModU-N_",
        "colab_type": "code",
        "colab": {}
      },
      "source": [
        ""
      ],
      "execution_count": 0,
      "outputs": []
    },
    {
      "cell_type": "code",
      "metadata": {
        "id": "nNqqbEcLU-T9",
        "colab_type": "code",
        "colab": {}
      },
      "source": [
        ""
      ],
      "execution_count": 0,
      "outputs": []
    },
    {
      "cell_type": "code",
      "metadata": {
        "id": "fBawUoSJU-W7",
        "colab_type": "code",
        "colab": {}
      },
      "source": [
        ""
      ],
      "execution_count": 0,
      "outputs": []
    },
    {
      "cell_type": "code",
      "metadata": {
        "id": "AuGULThpU-aV",
        "colab_type": "code",
        "colab": {}
      },
      "source": [
        ""
      ],
      "execution_count": 0,
      "outputs": []
    },
    {
      "cell_type": "code",
      "metadata": {
        "id": "9ySs8LRcU-d_",
        "colab_type": "code",
        "colab": {}
      },
      "source": [
        ""
      ],
      "execution_count": 0,
      "outputs": []
    }
  ]
}