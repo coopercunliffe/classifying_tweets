{
  "nbformat": 4,
  "nbformat_minor": 0,
  "metadata": {
    "colab": {
      "name": "tweet_df.ipynb",
      "provenance": [],
      "collapsed_sections": [],
      "mount_file_id": "1LjBWQfBi2s_u_sk9oCVrgpq_3uRbhPpl",
      "authorship_tag": "ABX9TyMwoQ/3iC3MXYE2n8n84i27",
      "include_colab_link": true
    },
    "kernelspec": {
      "name": "python3",
      "display_name": "Python 3"
    }
  },
  "cells": [
    {
      "cell_type": "markdown",
      "metadata": {
        "id": "view-in-github",
        "colab_type": "text"
      },
      "source": [
        "<a href=\"https://colab.research.google.com/github/coopercunliffe/springboard/blob/master/tweet_df.ipynb\" target=\"_parent\"><img src=\"https://colab.research.google.com/assets/colab-badge.svg\" alt=\"Open In Colab\"/></a>"
      ]
    },
    {
      "cell_type": "code",
      "metadata": {
        "id": "skK5ZFndQr3A",
        "colab_type": "code",
        "colab": {}
      },
      "source": [
        "import pandas as pd\n",
        "import numpy as np\n",
        "import datetime as dt\n",
        "import matplotlib.pyplot as plt\n",
        "import seaborn as sns\n",
        "import re\n",
        "\n",
        "pd.set_option('display.max_colwidth', 72)\n",
        "\n",
        "# The following extracts particular date fields from a complete datetime for the purpose of constructing categoricals.\n",
        "\n",
        "\n",
        "def add_datepart(df, fldname, drop=True, time=False):\n",
        "    \"Helper function that adds columns relevant to a date.\"\n",
        "    fld = df[fldname]\n",
        "    fld_dtype = fld.dtype\n",
        "    if isinstance(fld_dtype, pd.core.dtypes.dtypes.DatetimeTZDtype):\n",
        "        fld_dtype = np.datetime64\n",
        "\n",
        "    if not np.issubdtype(fld_dtype, np.datetime64):\n",
        "        df[fldname] = fld = pd.to_datetime(fld, infer_datetime_format=True)\n",
        "    targ_pre = re.sub('[Dd]ate$', '', fldname)\n",
        "    attr = ['Year', 'Month', 'Week', 'Day', 'Dayofweek', 'Dayofyear',\n",
        "            'Is_month_end', 'Is_month_start', 'Is_quarter_end', \n",
        "            'Is_quarter_start', 'Is_year_end', 'Is_year_start']\n",
        "    if time: attr = attr + ['Hour', 'Minute', 'Second']\n",
        "    for n in attr: df[targ_pre + '_' + n] = getattr(fld.dt, n.lower())\n",
        "    df[targ_pre + 'Elapsed'] = fld.astype(np.int64) // 10 ** 9\n",
        "    if drop: df.drop(fldname, axis=1, inplace=True)\n"
      ],
      "execution_count": 0,
      "outputs": []
    },
    {
      "cell_type": "code",
      "metadata": {
        "id": "Dm_ZumOyYCEO",
        "colab_type": "code",
        "colab": {}
      },
      "source": [
        "df09 = pd.read_json('/content/drive/My Drive/twitter data/condensed_2009.json')\n",
        "df10 = pd.read_json('/content/drive/My Drive/twitter data/condensed_2010.json')\n",
        "df11 = pd.read_json('/content/drive/My Drive/twitter data/condensed_2011.json')\n",
        "df12 = pd.read_json('/content/drive/My Drive/twitter data/condensed_2012.json')\n",
        "df13 = pd.read_json('/content/drive/My Drive/twitter data/condensed_2013.json')\n",
        "df14 = pd.read_json('/content/drive/My Drive/twitter data/condensed_2014.json')\n",
        "df15 = pd.read_json('/content/drive/My Drive/twitter data/condensed_2015.json')\n",
        "df16 = pd.read_json('/content/drive/My Drive/twitter data/condensed_2016.json')\n",
        "df17 = pd.read_json('/content/drive/My Drive/twitter data/condensed_2017.json')\n",
        "df18 = pd.read_json('/content/drive/My Drive/twitter data/condensed_2018.json')\n",
        "df19 = pd.read_json('/content/drive/My Drive/twitter data/2019.json')\n",
        "df20 = pd.read_json('/content/drive/My Drive/twitter data/2020.json')"
      ],
      "execution_count": 0,
      "outputs": []
    },
    {
      "cell_type": "code",
      "metadata": {
        "id": "Aaak-phriXF1",
        "colab_type": "code",
        "outputId": "c0a35f1f-2161-46c0-ea1b-b2083a2f3cff",
        "colab": {
          "base_uri": "https://localhost:8080/",
          "height": 68
        }
      },
      "source": [
        "df19.columns"
      ],
      "execution_count": 0,
      "outputs": [
        {
          "output_type": "execute_result",
          "data": {
            "text/plain": [
              "Index(['source', 'id_str', 'text', 'created_at', 'retweet_count',\n",
              "       'in_reply_to_user_id_str', 'favorite_count', 'is_retweet'],\n",
              "      dtype='object')"
            ]
          },
          "metadata": {
            "tags": []
          },
          "execution_count": 99
        }
      ]
    },
    {
      "cell_type": "code",
      "metadata": {
        "id": "8NE4nxqyj4sC",
        "colab_type": "code",
        "colab": {}
      },
      "source": [
        ""
      ],
      "execution_count": 0,
      "outputs": []
    },
    {
      "cell_type": "code",
      "metadata": {
        "id": "a42rMDeBkjdj",
        "colab_type": "code",
        "colab": {}
      },
      "source": [
        "# df19 is corrupted, many retweets incorrectly labelled False. Here we fix that\n",
        "\n",
        "df19['is_retweet'] = df19.apply(lambda row: True \n",
        "                                 if row['text'].startswith('RT @')\n",
        "                                 else False, axis=1)"
      ],
      "execution_count": 0,
      "outputs": []
    },
    {
      "cell_type": "code",
      "metadata": {
        "id": "lEE54jOSiXM0",
        "colab_type": "code",
        "colab": {}
      },
      "source": [
        ""
      ],
      "execution_count": 0,
      "outputs": []
    },
    {
      "cell_type": "code",
      "metadata": {
        "id": "E7I4c4Pokic-",
        "colab_type": "code",
        "colab": {}
      },
      "source": [
        ""
      ],
      "execution_count": 0,
      "outputs": []
    },
    {
      "cell_type": "code",
      "metadata": {
        "id": "BNJtEnm-iXRZ",
        "colab_type": "code",
        "colab": {}
      },
      "source": [
        ""
      ],
      "execution_count": 0,
      "outputs": []
    },
    {
      "cell_type": "code",
      "metadata": {
        "id": "0K_jIkh0iXWX",
        "colab_type": "code",
        "colab": {}
      },
      "source": [
        ""
      ],
      "execution_count": 0,
      "outputs": []
    },
    {
      "cell_type": "code",
      "metadata": {
        "id": "oCoa56tySrLu",
        "colab_type": "code",
        "colab": {}
      },
      "source": [
        "years = [df09, df10, df11, df12, df13, df14, \n",
        "         df15, df16, df17, df18, df19, df20]\n",
        "\n",
        "df = pd.concat(years)\n",
        "df = df.sort_values('created_at').reset_index(drop=True)"
      ],
      "execution_count": 0,
      "outputs": []
    },
    {
      "cell_type": "code",
      "metadata": {
        "id": "DMVu7RiHEP2r",
        "colab_type": "code",
        "outputId": "3c3d816b-fd30-41a3-98e9-17b3abce1425",
        "colab": {
          "base_uri": "https://localhost:8080/",
          "height": 272
        }
      },
      "source": [
        "df.info()"
      ],
      "execution_count": 0,
      "outputs": [
        {
          "output_type": "stream",
          "text": [
            "<class 'pandas.core.frame.DataFrame'>\n",
            "RangeIndex: 48151 entries, 0 to 48150\n",
            "Data columns (total 8 columns):\n",
            " #   Column                   Non-Null Count  Dtype              \n",
            "---  ------                   --------------  -----              \n",
            " 0   source                   48151 non-null  object             \n",
            " 1   id_str                   48151 non-null  int64              \n",
            " 2   text                     48151 non-null  object             \n",
            " 3   created_at               48151 non-null  datetime64[ns, UTC]\n",
            " 4   retweet_count            48151 non-null  int64              \n",
            " 5   in_reply_to_user_id_str  3301 non-null   float64            \n",
            " 6   favorite_count           48151 non-null  int64              \n",
            " 7   is_retweet               48151 non-null  bool               \n",
            "dtypes: bool(1), datetime64[ns, UTC](1), float64(1), int64(3), object(2)\n",
            "memory usage: 2.6+ MB\n"
          ],
          "name": "stdout"
        }
      ]
    },
    {
      "cell_type": "code",
      "metadata": {
        "id": "YGUtxZWRXXBl",
        "colab_type": "code",
        "outputId": "abf826c3-6e8f-4e7d-bb2c-68e0f3e811dc",
        "colab": {
          "base_uri": "https://localhost:8080/",
          "height": 170
        }
      },
      "source": [
        "df.iloc[0]"
      ],
      "execution_count": 0,
      "outputs": [
        {
          "output_type": "execute_result",
          "data": {
            "text/plain": [
              "source                                                                          Twitter Web Client\n",
              "id_str                                                                                  1698308935\n",
              "text                       Be sure to tune in and watch Donald Trump on Late Night with David L...\n",
              "created_at                                                               2009-05-04 18:54:25+00:00\n",
              "retweet_count                                                                                  253\n",
              "in_reply_to_user_id_str                                                                        NaN\n",
              "favorite_count                                                                                 202\n",
              "is_retweet                                                                                   False\n",
              "Name: 0, dtype: object"
            ]
          },
          "metadata": {
            "tags": []
          },
          "execution_count": 103
        }
      ]
    },
    {
      "cell_type": "code",
      "metadata": {
        "id": "EEbbbyrNYCGd",
        "colab_type": "code",
        "colab": {}
      },
      "source": [
        "\n",
        "\n",
        "df['created_date'] = [d.date() for d in df['created_at']]\n",
        "df['created_time'] = [d.time() for d in df['created_at']]\n",
        "\n",
        "# takes a retweet as a string and removes the 'RT @name: '\n",
        "def remove_rt_signature(tweet):\n",
        "    split_tweet = tweet.split(':', 1)\n",
        "    return split_tweet[1][1:]\n",
        "\n",
        "# make a new column of all the tweets with the retweets cleaned up\n",
        "# df['text_cleaned'] = df.apply(lambda row: row['text'] if row['is_retweet'] == False else remove_rt_signature(row['text']), axis=1)\n",
        "\n",
        "\n",
        "\n",
        "# make a column that indicates the hour of tweet\n",
        "\n",
        "df['created_hour'] = pd.to_datetime(df['created_time'].astype(str)).dt.hour\n",
        "\n",
        "\n",
        "# add a column for hours changed from GMT to EST\n",
        "\n",
        "def gmt_to_est(gmt):\n",
        "  est = (gmt - 4) % 24\n",
        "  return est\n",
        "\n",
        "df['created_hour_est'] = df.apply(lambda row: gmt_to_est(row['created_hour']), axis=1)\n",
        "\n",
        "\n",
        "# make a column that classifies tweet as night or day tweet (2:00 - 10:00 GMT = 22:00 - 6:00 EST)\n",
        "\n",
        "# df['is_night_tweet'] = df['created_hour'].isin([2, 3, 4, 5, 6, 7, 8, 9, 10])\n",
        "\n",
        "\n",
        "# make a column that classifies tweets as before and after becoming president\n",
        "\n",
        "\n",
        "df['is_presidential'] = df.apply(lambda row: True \n",
        "                                 if row['created_date'] >= dt.date(2017,1,20)\n",
        "                                 else False, axis=1)      # (2017,01,20)\n",
        "\n",
        "\n",
        "# add a validation column to indicate the validation data, eventually set most recent 10-20% to True\n",
        "\n",
        "df['is_valid'] = False\n",
        "\n",
        "\n",
        "# add the datetime catagoricals\n",
        "\n",
        "add_datepart(df, 'created_at', drop=False)\n",
        "\n",
        "\n",
        "# add a column that describes the days of the week in strings instead of integers\n",
        "\n",
        "day_list = ['Monday', 'Tuesday', 'Wednesday', 'Thursday', 'Friday', 'Saturday', 'Sunday']\n",
        "\n",
        "df['created_at_Dayofweek_str'] = [day_list[i] for i in df['created_at_Dayofweek']]"
      ],
      "execution_count": 0,
      "outputs": []
    },
    {
      "cell_type": "code",
      "metadata": {
        "id": "qcZu1HBIaNw7",
        "colab_type": "code",
        "outputId": "0fef0a45-988c-4cc8-934c-57519605c175",
        "colab": {
          "base_uri": "https://localhost:8080/",
          "height": 34
        }
      },
      "source": [
        "df.shape"
      ],
      "execution_count": 0,
      "outputs": [
        {
          "output_type": "execute_result",
          "data": {
            "text/plain": [
              "(48151, 28)"
            ]
          },
          "metadata": {
            "tags": []
          },
          "execution_count": 105
        }
      ]
    },
    {
      "cell_type": "code",
      "metadata": {
        "id": "GpDqORFZrV7x",
        "colab_type": "code",
        "outputId": "bf6204af-392c-4931-b4dd-e1e153062be2",
        "colab": {
          "base_uri": "https://localhost:8080/",
          "height": 510
        }
      },
      "source": [
        "df.iloc[-1]"
      ],
      "execution_count": 0,
      "outputs": [
        {
          "output_type": "execute_result",
          "data": {
            "text/plain": [
              "source                                                                              Twitter for iPhone\n",
              "id_str                                                                             1259843806049992704\n",
              "text                           Dems are trying to steal the Mike Garcia Congressional Race in Calif...\n",
              "created_at                                                                   2020-05-11 13:52:24+00:00\n",
              "retweet_count                                                                                     1557\n",
              "in_reply_to_user_id_str                                                                            NaN\n",
              "favorite_count                                                                                    4225\n",
              "is_retweet                                                                                       False\n",
              "created_date                                                                                2020-05-11\n",
              "created_time                                                                                  13:52:24\n",
              "created_hour                                                                                        13\n",
              "created_hour_est                                                                                     9\n",
              "is_presidential                                                                                   True\n",
              "is_valid                                                                                         False\n",
              "created_at_Year                                                                                   2020\n",
              "created_at_Month                                                                                     5\n",
              "created_at_Week                                                                                     20\n",
              "created_at_Day                                                                                      11\n",
              "created_at_Dayofweek                                                                                 0\n",
              "created_at_Dayofyear                                                                               132\n",
              "created_at_Is_month_end                                                                          False\n",
              "created_at_Is_month_start                                                                        False\n",
              "created_at_Is_quarter_end                                                                        False\n",
              "created_at_Is_quarter_start                                                                      False\n",
              "created_at_Is_year_end                                                                           False\n",
              "created_at_Is_year_start                                                                         False\n",
              "created_atElapsed                                                                           1589205144\n",
              "created_at_Dayofweek_str                                                                        Monday\n",
              "Name: 48150, dtype: object"
            ]
          },
          "metadata": {
            "tags": []
          },
          "execution_count": 106
        }
      ]
    },
    {
      "cell_type": "code",
      "metadata": {
        "id": "-lFpouAaYCIq",
        "colab_type": "code",
        "colab": {}
      },
      "source": [
        ""
      ],
      "execution_count": 0,
      "outputs": []
    },
    {
      "cell_type": "code",
      "metadata": {
        "id": "2DL4hgiYYCKy",
        "colab_type": "code",
        "colab": {}
      },
      "source": [
        "df.to_csv('/content/drive/My Drive/twitter data/tweet_df.csv')"
      ],
      "execution_count": 0,
      "outputs": []
    },
    {
      "cell_type": "code",
      "metadata": {
        "id": "J4v2xH5jYCM3",
        "colab_type": "code",
        "colab": {}
      },
      "source": [
        ""
      ],
      "execution_count": 0,
      "outputs": []
    },
    {
      "cell_type": "code",
      "metadata": {
        "id": "c6Q6k7yGYCPM",
        "colab_type": "code",
        "colab": {}
      },
      "source": [
        ""
      ],
      "execution_count": 0,
      "outputs": []
    },
    {
      "cell_type": "code",
      "metadata": {
        "id": "Uw3N6CrBYCRe",
        "colab_type": "code",
        "outputId": "1a67ac9a-68d2-4d45-8c31-64fab9d9be57",
        "colab": {
          "base_uri": "https://localhost:8080/",
          "height": 884
        }
      },
      "source": [
        "tweets_by_day = pd.DataFrame(df['created_date'].value_counts().sort_index())\n",
        "tweets_by_day = tweets_by_day.rename(columns={'created_date':'total number of tweets'})\n",
        "tweets_by_day['retweets'] = [df[(df['created_date'] == i) & (df['is_retweet'] == True)].shape[0] for i in tweets_by_day.index]\n",
        "print(tweets_by_day.iloc[-220:-170])\n",
        "\n",
        "# fixed"
      ],
      "execution_count": 0,
      "outputs": [
        {
          "output_type": "stream",
          "text": [
            "            total number of tweets  retweets\n",
            "2019-10-05                      45        15\n",
            "2019-10-06                      44        19\n",
            "2019-10-07                      26         6\n",
            "2019-10-08                      51        29\n",
            "2019-10-09                      49        13\n",
            "2019-10-10                      24         4\n",
            "2019-10-11                      52        31\n",
            "2019-10-12                      28        10\n",
            "2019-10-13                      24         4\n",
            "2019-10-14                      34         3\n",
            "2019-10-15                      15         0\n",
            "2019-10-16                      25         6\n",
            "2019-10-17                      32        14\n",
            "2019-10-18                      22         5\n",
            "2019-10-19                      55        35\n",
            "2019-10-20                      22         5\n",
            "2019-10-21                      18         6\n",
            "2019-10-22                      41        27\n",
            "2019-10-23                      47        25\n",
            "2019-10-24                      15         6\n",
            "2019-10-25                      42        24\n",
            "2019-10-26                      36        12\n",
            "2019-10-27                       7         2\n",
            "2019-10-28                      14         8\n",
            "2019-10-29                      48        30\n",
            "2019-10-30                      34        15\n",
            "2019-10-31                      37        20\n",
            "2019-11-01                      37         4\n",
            "2019-11-02                      35        27\n",
            "2019-11-03                      24         5\n",
            "2019-11-04                      38        15\n",
            "2019-11-05                      40        24\n",
            "2019-11-06                      23         7\n",
            "2019-11-07                      19         3\n",
            "2019-11-08                       6         3\n",
            "2019-11-09                      44        32\n",
            "2019-11-10                      51        33\n",
            "2019-11-11                      38        15\n",
            "2019-11-12                      14         4\n",
            "2019-11-13                      43        30\n",
            "2019-11-14                      34        21\n",
            "2019-11-15                      43        24\n",
            "2019-11-16                      25        11\n",
            "2019-11-17                      51        15\n",
            "2019-11-18                      14         1\n",
            "2019-11-19                      38        32\n",
            "2019-11-20                      37        21\n",
            "2019-11-21                      35        12\n",
            "2019-11-22                      30        16\n",
            "2019-11-23                      17         4\n"
          ],
          "name": "stdout"
        }
      ]
    },
    {
      "cell_type": "code",
      "metadata": {
        "id": "w9facrIJYCTi",
        "colab_type": "code",
        "colab": {}
      },
      "source": [
        ""
      ],
      "execution_count": 0,
      "outputs": []
    },
    {
      "cell_type": "code",
      "metadata": {
        "id": "-KuqpRh9YCV1",
        "colab_type": "code",
        "colab": {}
      },
      "source": [
        ""
      ],
      "execution_count": 0,
      "outputs": []
    },
    {
      "cell_type": "code",
      "metadata": {
        "id": "UAh7TQg8YCXn",
        "colab_type": "code",
        "colab": {}
      },
      "source": [
        ""
      ],
      "execution_count": 0,
      "outputs": []
    },
    {
      "cell_type": "code",
      "metadata": {
        "id": "0htZ3dAPYCZj",
        "colab_type": "code",
        "colab": {}
      },
      "source": [
        ""
      ],
      "execution_count": 0,
      "outputs": []
    },
    {
      "cell_type": "code",
      "metadata": {
        "id": "m_va2f0PYCb_",
        "colab_type": "code",
        "colab": {}
      },
      "source": [
        ""
      ],
      "execution_count": 0,
      "outputs": []
    },
    {
      "cell_type": "code",
      "metadata": {
        "id": "gLhD5D2mYCd4",
        "colab_type": "code",
        "colab": {}
      },
      "source": [
        ""
      ],
      "execution_count": 0,
      "outputs": []
    },
    {
      "cell_type": "code",
      "metadata": {
        "id": "wLIfSZBiYCgE",
        "colab_type": "code",
        "colab": {}
      },
      "source": [
        ""
      ],
      "execution_count": 0,
      "outputs": []
    },
    {
      "cell_type": "code",
      "metadata": {
        "id": "QvJJX6V9YCie",
        "colab_type": "code",
        "colab": {}
      },
      "source": [
        ""
      ],
      "execution_count": 0,
      "outputs": []
    },
    {
      "cell_type": "code",
      "metadata": {
        "id": "TNNiQqbvYCk4",
        "colab_type": "code",
        "colab": {}
      },
      "source": [
        ""
      ],
      "execution_count": 0,
      "outputs": []
    },
    {
      "cell_type": "code",
      "metadata": {
        "id": "DCQvDU--YCnM",
        "colab_type": "code",
        "colab": {}
      },
      "source": [
        ""
      ],
      "execution_count": 0,
      "outputs": []
    },
    {
      "cell_type": "code",
      "metadata": {
        "id": "aipjQYK1YCtV",
        "colab_type": "code",
        "colab": {}
      },
      "source": [
        ""
      ],
      "execution_count": 0,
      "outputs": []
    }
  ]
}